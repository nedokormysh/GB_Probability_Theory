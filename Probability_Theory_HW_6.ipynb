{
  "nbformat": 4,
  "nbformat_minor": 0,
  "metadata": {
    "colab": {
      "name": "Probability_Theory_HW_6.ipynb",
      "provenance": [],
      "collapsed_sections": [],
      "authorship_tag": "ABX9TyNlZ6a6ib/bWa+wIkqOkr7c",
      "include_colab_link": true
    },
    "kernelspec": {
      "name": "python3",
      "display_name": "Python 3"
    },
    "language_info": {
      "name": "python"
    }
  },
  "cells": [
    {
      "cell_type": "markdown",
      "metadata": {
        "id": "view-in-github",
        "colab_type": "text"
      },
      "source": [
        "<a href=\"https://colab.research.google.com/github/nedokormysh/GB_Probability_Theory/blob/lesson6/Probability_Theory_HW_6.ipynb\" target=\"_parent\"><img src=\"https://colab.research.google.com/assets/colab-badge.svg\" alt=\"Open In Colab\"/></a>"
      ]
    },
    {
      "cell_type": "code",
      "metadata": {
        "id": "OiSGOIhuL9xo"
      },
      "source": [
        "import numpy as np\n",
        "import math\n",
        "import scipy.stats as stats"
      ],
      "execution_count": null,
      "outputs": []
    },
    {
      "cell_type": "markdown",
      "metadata": {
        "id": "9BRMwL2pMxKv"
      },
      "source": [
        "**Задание 1.**\n",
        "\n",
        "Даны значения величины заработной платы заемщиков банка (zp) и значения их поведенческого кредитного скоринга (ks):\n",
        "zp = [35, 45, 190, 200, 40, 70, 54, 150, 120, 110],\n",
        "ks = [401, 574, 874, 919, 459, 739, 653, 902, 746, 832].\n",
        "Найдите ковариацию этих двух величин с помощью элементарных действий, а затем с помощью функции cov из numpy\n",
        "Полученные значения должны быть равны.\n",
        "Найдите коэффициент корреляции Пирсона с помощью ковариации и среднеквадратичных отклонений двух признаков,\n",
        "а затем с использованием функций из библиотек numpy и pandas.\n",
        "\n",
        "$$cov_{XY} = M(XY) - M(X)M(Y)=\\overline{X \\cdot Y} = 9157.84$$\n",
        "$$$$\n",
        "$$r_{XY} = \\frac{cov_{XY}}{\\sigma_{X}\\sigma_{Y}} = 0.887$$"
      ]
    },
    {
      "cell_type": "code",
      "metadata": {
        "colab": {
          "base_uri": "https://localhost:8080/"
        },
        "id": "UxBmCp4xNJ3m",
        "outputId": "36e9a3ea-63c8-4679-e5b5-9086f565d6c9"
      },
      "source": [
        "zp = [35, 45, 190, 200, 40, 70, 54, 150, 120, 110]\n",
        "ks = [401, 574, 874, 919, 459, 739, 653, 902, 746, 832]\n",
        "\n",
        "zp = np.array(zp)\n",
        "ks = np.array(ks)\n",
        "\n",
        "cov_elem = (zp * ks).mean() - zp.mean() * ks.mean()\n",
        "print('Рассчитанная ковариация', round(cov_elem, 3))\n",
        "print('Ковариация при помощи numpy', np.cov(zp, ks, ddof=0)[1, 0])\n",
        "\n",
        "std_zp = math.sqrt(sum([(el - zp.mean())**2 for el in zp]) / len(zp))\n",
        "std_ks = math.sqrt(sum([(el - ks.mean())**2 for el in ks]) / len(ks))\n",
        "print('-' * 100)\n",
        "# print(zp.mean())\n",
        "# print(std_zp)\n",
        "# print(np.std(zp))\n",
        "# print(np.std(ks))\n",
        "\n",
        "pirson_elem = cov_elem / (std_zp * std_ks)\n",
        "print('Рассчитанный коэффициент Пирсона', round(pirson_elem, 3))\n",
        "print('Коэффициент корреляции', round(np.corrcoef(zp, ks)[1, 0], 3))"
      ],
      "execution_count": null,
      "outputs": [
        {
          "output_type": "stream",
          "name": "stdout",
          "text": [
            "Рассчитанная ковариация 9157.84\n",
            "Ковариация при помощи numpy 9157.84\n",
            "----------------------------------------------------------------------------------------------------\n",
            "Рассчитанный коэффициент Пирсона 0.887\n",
            "Коэффициент корреляции 0.887\n"
          ]
        }
      ]
    },
    {
      "cell_type": "markdown",
      "metadata": {
        "id": "xLRyIQfge4E3"
      },
      "source": [
        "**Задание 2.**\n",
        "\n",
        "Измерены значения IQ выборки студентов,\n",
        "обучающихся в местных технических вузах:\n",
        "131, 125, 115, 122, 131, 115, 107, 99, 125, 111.\n",
        "Известно, что в генеральной совокупности IQ распределен нормально.\n",
        "Найдите доверительный интервал для математического ожидания с надежностью 0.95.\n",
        "\n",
        "Мы не знаем СКО для генеральной совокупности. Поэтому используем критерий Стьюдента.\n",
        "\n",
        "$$n = 10$$\n",
        "\n",
        "потребуется\n",
        "\n",
        "$$\\overline{X} =\\frac{131 + 125 + 115 + 122 + 131 + 115 + 107 + 99 + 125 + 111}{10} = 118.1$$\n",
        "\n",
        "$$\\alpha = 1 - 0.95 = 0.05$$\n",
        "$$\\alpha/2 = 0.025 \\Rightarrow T_{table} = 2.262$$\n",
        "Также нам потребуется несмещённая сигма.\n",
        "\n",
        "$$\\sigma = 10.54$$\n",
        "Доверительный интервал\n",
        "\n",
        "$$ \\left( \\overline{X} - \\frac{\\sigma}{\\sqrt{n}} \\cdot T_{\\frac{\\alpha}{2}}, \\overline{X} + \\frac{\\sigma}{\\sqrt{n}} \\cdot T_{\\frac{\\alpha}{2}} \\right)$$\n",
        "$$$$\n",
        "Ответ: $(110.557, 125.643)$"
      ]
    },
    {
      "cell_type": "code",
      "metadata": {
        "colab": {
          "base_uri": "https://localhost:8080/"
        },
        "id": "m-t9FwF8fRpC",
        "outputId": "9eaede3b-503c-4c40-c06c-53dc28ba69c0"
      },
      "source": [
        "IQ_series = [131, 125, 115, 122, 131, 115, 107, 99, 125, 111]\n",
        "IQmean = np.mean(IQ_series)\n",
        "# print(IQmean)\n",
        "\n",
        "std_IQ = math.sqrt(sum([(el - IQmean)**2 for el in IQ_series]) / (len(IQ_series) - 1))\n",
        "print('СКО', std_IQ)\n",
        "# print(np.std(IQ_series, ddof=1))\n",
        "Ttable = 2.262\n",
        "# Tt = stats.t.ppf(1 - 0.05 / 2, 9)\n",
        "# print(Tt)\n",
        "\n",
        "\n",
        "IQl = IQmean - std_IQ * Ttable / math.sqrt(len(IQ_series))\n",
        "IQr = IQmean + std_IQ * Ttable / math.sqrt(len(IQ_series))\n",
        "print('Левая граница', round(IQl, 3))\n",
        "print('Правая граница', round(IQr, 3))"
      ],
      "execution_count": null,
      "outputs": [
        {
          "output_type": "stream",
          "name": "stdout",
          "text": [
            "СКО 10.54566788359614\n",
            "Левая граница 110.557\n",
            "Правая граница 125.643\n"
          ]
        }
      ]
    },
    {
      "cell_type": "markdown",
      "metadata": {
        "id": "bRSPwfvZ6ySk"
      },
      "source": [
        "**Задание 3.**\n",
        "\n",
        "Известно, что рост футболистов в сборной распределен нормально\n",
        "с дисперсией генеральной совокупности, равной 25 кв.см. Объем выборки равен 27,\n",
        "среднее выборочное составляет 174.2. Найдите доверительный интервал для математического\n",
        "ожидания с надежностью 0.95.\n",
        "\n",
        "$$D = 25 cm^2$$\n",
        "$$n = 27$$\n",
        "$$\\overline{X} = 174.2$$\n",
        "$$\\alpha = 0.05$$\n",
        "\n",
        "\n",
        "Мы знаем среднее выборки, т.е. мы знаем среднее генеральной совокупности.\n",
        "\n",
        "\n",
        "$$\\alpha = 1 - 0.95 = 0.05$$\n",
        "$$$$\n",
        "$$\\alpha/2 = 0.025 \\Rightarrow Z_{table} = 1.96$$\n",
        "$$$$\n",
        "$$\\sigma = std = \\sqrt D = 5$$\n",
        "\n",
        "Доверительный интервал\n",
        "\n",
        "$$ \\left( \\overline{X} - \\frac{\\sigma}{\\sqrt{n}} \\cdot Z_{\\frac{\\alpha}{2}}, \\overline{X} + \\frac{\\sigma}{\\sqrt{n}} \\cdot Z_{\\frac{\\alpha}{2}}\n",
        "         \\right) $$\n",
        "Ответ: $(172.314, 176.086)$\n",
        "\n"
      ]
    },
    {
      "cell_type": "code",
      "metadata": {
        "colab": {
          "base_uri": "https://localhost:8080/"
        },
        "id": "fBA14-W27vUp",
        "outputId": "1019de16-f9cf-4cc3-882b-95c7b2b47b46"
      },
      "source": [
        "X = 174.2\n",
        "D = 25\n",
        "n = 27\n",
        "std = math.sqrt(D)\n",
        "Ztable = stats.norm.ppf(1 - 0.05 / 2)\n",
        "# print(Ztable)\n",
        "\n",
        "Xl = X - std * Ztable / math.sqrt(n)\n",
        "Xr = X + std * Ztable / math.sqrt(n)\n",
        "print('Левая граница', round(Xl, 3))\n",
        "print('Правая граница', round(Xr, 3))"
      ],
      "execution_count": null,
      "outputs": [
        {
          "output_type": "stream",
          "name": "stdout",
          "text": [
            "Левая граница 172.314\n",
            "Правая граница 176.086\n"
          ]
        }
      ]
    }
  ]
}