{
  "nbformat": 4,
  "nbformat_minor": 0,
  "metadata": {
    "colab": {
      "name": "Probability_Theory_HW_3.ipynb",
      "provenance": [],
      "collapsed_sections": [],
      "authorship_tag": "ABX9TyPaUe1Sjc3v3+zSLr5BL938",
      "include_colab_link": true
    },
    "kernelspec": {
      "name": "python3",
      "display_name": "Python 3"
    },
    "language_info": {
      "name": "python"
    }
  },
  "cells": [
    {
      "cell_type": "markdown",
      "metadata": {
        "id": "view-in-github",
        "colab_type": "text"
      },
      "source": [
        "<a href=\"https://colab.research.google.com/github/nedokormysh/GB_Probability_Theory/blob/lesson3/Probability_Theory_HW_3.ipynb\" target=\"_parent\"><img src=\"https://colab.research.google.com/assets/colab-badge.svg\" alt=\"Open In Colab\"/></a>"
      ]
    },
    {
      "cell_type": "code",
      "metadata": {
        "id": "lEkfmYSKix78"
      },
      "source": [
        "import numpy as np\n",
        "from math import factorial, sqrt"
      ],
      "execution_count": null,
      "outputs": []
    },
    {
      "cell_type": "code",
      "metadata": {
        "id": "G_ADwcdelt96"
      },
      "source": [
        "def combinations(n, k):\n",
        "    return int(factorial(n) / (factorial(k) * factorial(n - k)))"
      ],
      "execution_count": null,
      "outputs": []
    },
    {
      "cell_type": "markdown",
      "metadata": {
        "id": "NQcNAAn2EQIo"
      },
      "source": [
        "**Задание 1**\n",
        "\n",
        "Даны значения зарплат из выборки выпускников: 100, 80, 75, 77, 89, 33, 45, 25, 65, 17, 30, 24, 57, 55, 70, 75, 65, 84, 90, 150. Посчитать (желательно без использования статистических методов наподобие std, var, mean) среднее арифметическое, среднее квадратичное отклонение, смещенную и несмещенную оценки дисперсий для данной выборки."
      ]
    },
    {
      "cell_type": "code",
      "metadata": {
        "colab": {
          "base_uri": "https://localhost:8080/"
        },
        "id": "WcA6OH5IEVqS",
        "outputId": "e64c55e1-34c1-4f28-d30b-f83bc0685b00"
      },
      "source": [
        "#В начале выполним сортировку списка.\n",
        "salary = [100, 80, 75, 77, 89, 33, 45, 25, 65, 17, 30, 24, 57, 55, 70, 75, 65, 84, 90, 150]\n",
        "salary.sort()\n",
        "print(salary)"
      ],
      "execution_count": null,
      "outputs": [
        {
          "output_type": "stream",
          "name": "stdout",
          "text": [
            "[17, 24, 25, 30, 33, 45, 55, 57, 65, 65, 70, 75, 75, 77, 80, 84, 89, 90, 100, 150]\n"
          ]
        }
      ]
    },
    {
      "cell_type": "markdown",
      "metadata": {
        "id": "hv90kXWsd2OR"
      },
      "source": [
        "**Среднее арифметическое**"
      ]
    },
    {
      "cell_type": "code",
      "metadata": {
        "colab": {
          "base_uri": "https://localhost:8080/"
        },
        "id": "f5cIS2zjGCGI",
        "outputId": "b719a98e-1366-4aaa-d567-867fee4d61e3"
      },
      "source": [
        "# Среднее арифметическое\n",
        "# У нас конечное число испытаний, мы считаем оценку мат. ожидание.\n",
        "\n",
        "X = sum(salary) / len(salary)\n",
        "print('Среднее арифметическое', X)\n",
        "print('Оценка среднего арифметического через встроенную функцию mean', np.mean(salary))"
      ],
      "execution_count": null,
      "outputs": [
        {
          "output_type": "stream",
          "name": "stdout",
          "text": [
            "Среднее арифметическое 65.3\n",
            "Оценка среднего арифметического через встроенную функцию mean 65.3\n"
          ]
        }
      ]
    },
    {
      "cell_type": "markdown",
      "metadata": {
        "id": "-D4qCnaqd7mR"
      },
      "source": [
        "**Среднее квадратичное отклонение**"
      ]
    },
    {
      "cell_type": "code",
      "metadata": {
        "colab": {
          "base_uri": "https://localhost:8080/"
        },
        "id": "hqpBtkneHZII",
        "outputId": "62148489-6a2e-49d1-c3ba-1203a73c2884"
      },
      "source": [
        "presigma = []\n",
        "\n",
        "for el in salary:\n",
        "  presigma.append((el - X)**2)\n",
        "  sum(presigma)\n",
        "\n",
        "sigma = sqrt(sum(presigma) / len(salary))\n",
        "print('Среднеквадратичное отклонение', round(sigma, 3))\n",
        "\n",
        "\n",
        "#print(sqrt(sum([(el - X)**2 for el in salary]) / len(salary)))\n",
        "\n",
        "print('Среднеквадратичное отклонение через встроенную функцию std', round(np.std(salary, ddof = 0), 3))"
      ],
      "execution_count": null,
      "outputs": [
        {
          "output_type": "stream",
          "name": "stdout",
          "text": [
            "Среднеквадратичное отклонение 30.824\n",
            "Среднеквадратичное отклонение через встроенную функцию std 30.824\n"
          ]
        }
      ]
    },
    {
      "cell_type": "markdown",
      "metadata": {
        "id": "zWiR90GWeDsZ"
      },
      "source": [
        "**Смещенная дисперсия.**"
      ]
    },
    {
      "cell_type": "code",
      "metadata": {
        "colab": {
          "base_uri": "https://localhost:8080/"
        },
        "id": "Jx4AyfdTZ0S9",
        "outputId": "c73b017d-fbb2-4146-bfae-42d114fa4a94"
      },
      "source": [
        "# смещенная дисперсия для данной выборки\n",
        "print('Смещённую дисперсию мы можем получить возведя СКО в квадрат', sigma**2)\n",
        "print('Смещённая дисперсия через встроенную функцию var', round(np.var(salary), 3))\n",
        "# presigma = []\n",
        "# for el in salary:\n",
        "#   presigma.append((el - X)**2)\n",
        "# UnadjustedVariance = sum(presigma) / len(salary)\n",
        "# print(UnadjustedVariance)\n",
        "\n",
        "# print(sum([(el - X)**2 for el in salary]) / len(salary))"
      ],
      "execution_count": null,
      "outputs": [
        {
          "output_type": "stream",
          "name": "stdout",
          "text": [
            "Смещённую дисперсию мы можем получить возведя СКО в квадрат 950.11\n",
            "Смещённая дисперсия через встроенную функцию var 950.11\n"
          ]
        }
      ]
    },
    {
      "cell_type": "markdown",
      "metadata": {
        "id": "9-IkSefceKb4"
      },
      "source": [
        "**Несмещённая дисперсия.**"
      ]
    },
    {
      "cell_type": "code",
      "metadata": {
        "colab": {
          "base_uri": "https://localhost:8080/"
        },
        "id": "yHUOezlRePLy",
        "outputId": "8712416d-1388-4f03-9cc4-2f56de00593d"
      },
      "source": [
        "несмещенная оценки дисперсий для данной выборки\n",
        "\n",
        "presigma = []\n",
        "\n",
        "for el in salary:\n",
        "  presigma.append((el - X)**2)\n",
        "AdjustedVariance = sum(presigma) / (len(salary) - 1)\n",
        "\n",
        "print('Несмещенная дисперсия', round(AdjustedVariance, 3))\n",
        "\n",
        "# print(sum([(el - X)**2 for el in salary]) / (len(salary) - 1))\n",
        "\n",
        "print('Несмещённая дисперсия при помощи функции var', round(np.var(salary, ddof = 1), 3))"
      ],
      "execution_count": null,
      "outputs": [
        {
          "output_type": "stream",
          "name": "stdout",
          "text": [
            "Несмещенная дисперсия 1000.116\n",
            "Несмещённая дисперсия при помощи функции var 1000.116\n"
          ]
        }
      ]
    },
    {
      "cell_type": "markdown",
      "metadata": {
        "id": "GMCjnMhnlV7r"
      },
      "source": [
        "**Задание 2.**\n",
        "\n",
        "В первом ящике находится 8 мячей, из которых 5 - белые. Во втором ящике - 12 мячей, из которых 5 белых. Из первого ящика вытаскивают случайным образом два мяча, из второго - 4. Какова вероятность того, что 3 мяча белые?\n",
        "\n",
        "3 белых мяча мы можем получить в трёх случаях: \n",
        "\n",
        "0 белых из первого ящика и 3 белых из второго,\n",
        "\n",
        "$\\frac{C_{5}^0 \\cdot C_{3}^2}{C_{8}^2}\\cdot \\frac{C_{5}^3 \\cdot C_{7}^1}{C_{12}^4} \\approx 0.015$\n",
        "\n",
        "1 белый вытащили из первого ящика + 2 белых из второго,\n",
        "\n",
        "$\\frac{C_{5}^1 \\cdot C_{3}^1}{C_{8}^2}\\cdot \\frac{C_{5}^2 \\cdot C_{7}^2}{C_{12}^4} \\approx 0.027$\n",
        "\n",
        "2 белых из первого ящика и 1 из второго.\n",
        "\n",
        "$\\frac{C_{5}^2 \\cdot C_{3}^0}{C_{8}^2}\\cdot \\frac{C_{5}^1 \\cdot C_{7}^3}{C_{12}^4} \\approx 0.126$\n",
        "\n",
        "И все эти три случая нужно сложить. Получаем $P \\approx 0.369$"
      ]
    },
    {
      "cell_type": "code",
      "metadata": {
        "colab": {
          "base_uri": "https://localhost:8080/"
        },
        "id": "qB8awOcjot0e",
        "outputId": "57ea903e-0610-4f51-8230-4fec40dbc5d8"
      },
      "source": [
        "# программная реализация\n",
        "\n",
        "# 0 белых из первого ящика и 3 белых из второго\n",
        "p1 = (combinations(5, 0) * combinations(3, 2)) / (combinations(8, 2)) * ((combinations(5, 3) * combinations(7, 1)) / combinations(12, 4))\n",
        "print('Вероятность вытащить все три белых мяча только из второго ящика', round(p1, 3))\n",
        "\n",
        "# 1 белый из первого ящика и 2 белых из второго\n",
        "p2 = (combinations(5, 1) * combinations(3, 1)) / (combinations(8, 2)) * ((combinations(5, 2) * combinations(7, 2)) / combinations(12, 4))\n",
        "print('Вероятность вытащить 1 белый мяч из первого ящика и 2 белых из второго', round(p2, 3))\n",
        "\n",
        "# 2 белых из первого ящика и 1 белый из второго\n",
        "p3 = (combinations(5, 2) * combinations(3, 0)) / (combinations(8, 2)) * ((combinations(5, 1) * combinations(7, 3)) / combinations(12, 4))\n",
        "print('Вероятность вытащить 2 белых мяча из первого ящика и 1 белый из второго', round(p3, 3))\n",
        "\n",
        "print('Вероятность вытащить 3 белых мяча', round(p1 + p2 + p3, 3))"
      ],
      "execution_count": null,
      "outputs": [
        {
          "output_type": "stream",
          "name": "stdout",
          "text": [
            "Вероятность вытащить все три белых мяча только из второго ящика 0.015\n",
            "Вероятность вытащить 1 белый мяч из первого ящика и 2 белых из второго 0.227\n",
            "Вероятность вытащить 2 белых мяча из первого ящика и 1 белый из второго 0.126\n",
            "Вероятность вытащить 3 белых мяча 0.369\n"
          ]
        }
      ]
    },
    {
      "cell_type": "markdown",
      "metadata": {
        "id": "78oGTkKfiz5J"
      },
      "source": [
        "**Задание 3**\n",
        "\n",
        "На соревновании по биатлону один из трех спортсменов стреляет и попадает в мишень. Вероятность попадания для первого спортсмена равна 0.9, для второго — 0.8, для третьего — 0.6. Найти вероятность того, что выстрел произведен: a). первым спортсменом б). вторым спортсменом в). третьим спортсменом.\n",
        "\n",
        "Обозначим событие $А$ - попадание в мишень. Это зависимое событие. У нас 3 гипотезы, которые образуют полную группу. Несовместные события:\n",
        "\n",
        "$B_1$ - в мишень выстрелил первый участник,\n",
        "\n",
        "$B_2$ - в мишень выстрелил второй участник,\n",
        "\n",
        "$B_3$ - в мишень выстрелил третий участник.\n",
        "\n",
        "Это равновозможные варианты, т.е. вероятность выстрела $P(B_1) = P(B_2) = P(B_3) = \\frac{1}{3}$\n",
        "\n",
        "$$P(A\\:|\\:B_1) = 0.9$$\n",
        "\n",
        "$$P(A\\:|\\:B_2) = 0.8$$\n",
        "\n",
        "$$P(A\\:|\\:B_3) = 0.6$$\n",
        "\n",
        "По формуле полной вероятности\n",
        "$$$$\n",
        "$$P(A) = P(B_1) \\cdot P(A\\:|\\:B_1) + P(B_2) \\cdot P(A\\:|\\:B_2) + P(B_3) \\cdot P(A\\:|\\:B_3)$$\n",
        "\n",
        "Таким образом применим формулу Байеса. Т.е. происходит событие гипотезы и после него событие A.\n",
        "\n",
        "Вероятность того, что имела место гипотеза 1 при условии, что событие А произошло.\n",
        "\n",
        "$$P(B_1\\:|\\:A) = \\frac{P(B_{1}) \\cdot P(A\\:|\\:B_1)}{P(A)}$$\n",
        "$$$$\n",
        "Аналогично вероятность того, что имела место гипотеза 2 при условии, что событие А произошло.\n",
        "$$P(B_2\\:|\\:A) = \\frac{P(B_{2}) \\cdot P(A\\:|\\:B_2)}{P(A)}$$\n",
        "$$$$\n",
        "Вероятность того, что имела место гипотеза 3 при условии, что событие А произошло.\n",
        "$$P(B_3\\:|\\:A) = \\frac{P(B_{3}) \\cdot P(A\\:|\\:B_3)}{P(A)}$$"
      ]
    },
    {
      "cell_type": "code",
      "metadata": {
        "colab": {
          "base_uri": "https://localhost:8080/"
        },
        "id": "5frxXO0hQ8Sr",
        "outputId": "011a0ffa-d2b3-485c-fc1e-31545909291b"
      },
      "source": [
        "P_B1 = P_B2 = P_B3 = 1/3\n",
        "\n",
        "P_b1_A = 0.9\n",
        "P_b2_A = 0.8\n",
        "P_b3_A = 0.6\n",
        "\n",
        "P_A = P_B1 * P_b1_A + P_B2 * P_b2_A + P_B3 * P_b3_A\n",
        "\n",
        "P_a_B1 = (P_B1 * P_b1_A) / P_A\n",
        "P_a_B2 = (P_B2 * P_b2_A) / P_A\n",
        "P_a_B3 = (P_B3 * P_b3_A) / P_A\n",
        "print('Вероятность, что мишень поразил стрелок номер 1 =', round(P_a_B1, 3))\n",
        "print('Вероятность, что мишень поразил стрелок номер 2 =', round(P_a_B2, 3))\n",
        "print('Вероятность, что мишень поразил стрелок номер 3 =', round(P_a_B3, 3))\n",
        "# print('Проверка.', P_a_B1 + P_a_B2 + P_a_B3)"
      ],
      "execution_count": null,
      "outputs": [
        {
          "output_type": "stream",
          "name": "stdout",
          "text": [
            "Вероятность, что мишень поразил стрелок номер 1 = 0.391\n",
            "Вероятность, что мишень поразил стрелок номер 2 = 0.348\n",
            "Вероятность, что мишень поразил стрелок номер 3 = 0.261\n"
          ]
        }
      ]
    },
    {
      "cell_type": "markdown",
      "metadata": {
        "id": "CMJx9_BSF6hU"
      },
      "source": [
        "**Задание 4**\n",
        "\n",
        "В университет на факультеты A и B поступило равное количество студентов, а на факультет C студентов поступило столько же, сколько на A и B вместе. Вероятность того, что студент факультета A сдаст первую сессию, равна 0.8. Для студента факультета B эта вероятность равна 0.7, а для студента факультета C - 0.9. Студент сдал первую сессию. Какова вероятность, что он учится: a). на факультете A б). на факультете B в). на факультете C?\n",
        "\n",
        "\n",
        "Обозначим событие $E$ - студент сдал первую сессию. Это зависимое событие. У нас 3 гипотезы, которые образуют полную группу. Несовместные события:\n",
        "\n",
        "$A$ - сессию сдаёт ученик с факультета А,\n",
        "\n",
        "$B$ - сессию сдаёт ученик с факультета B,\n",
        "\n",
        "$C$ - сессию сдаёт ученик с факультета C.\n",
        "\n",
        "$P(A) = \\frac{25}{100} = 0.25$\n",
        "\n",
        "$P(B) = \\frac{25}{100} = 0.25$\n",
        "\n",
        "$P(C) = \\frac{50}{100} = 0.5$\n",
        "\n",
        "$P(A) + P(B) + P(C) = 1$\n",
        "\n",
        "\n",
        "$$P(E\\:|\\:A) = 0.8$$\n",
        "\n",
        "$$P(E\\:|\\:B) = 0.7$$\n",
        "\n",
        "$$P(E\\:|\\:C) = 0.9$$\n",
        "\n",
        "По формуле полной вероятности\n",
        "$$$$\n",
        "$$P(E) = P(A) \\cdot P(E\\:|\\:A) + P(B) \\cdot P(E\\:|\\:B) + P(C) \\cdot P(E\\:|\\:C) = 0.25\\cdot 0.8 + 0.25 \\cdot 0.7 + 0.5 \\cdot 0.9 = $$\n",
        "\n",
        "Какова вероятность, что он учится: a). на факультете A?\n",
        "\n",
        "$$P(A\\:|\\:E) = \\frac{P(A) \\cdot P(E\\:|\\:A)}{P(E)}$$\n",
        "$$$$\n",
        "\n",
        "Какова вероятность, что он учится: б). на факультете B?\n",
        "\n",
        "$$P(B\\:|\\:E) = \\frac{P(B) \\cdot P(E\\:|\\:B)}{P(E)}$$\n",
        "\n",
        "Какова вероятность, что он учится: в). на факультете C?\n",
        "\n",
        "$$P(C\\:|\\:E) = \\frac{P(C) \\cdot P(E\\:|\\:C)}{P(E)}$$"
      ]
    },
    {
      "cell_type": "code",
      "metadata": {
        "id": "L9EFKYbzFeoX",
        "colab": {
          "base_uri": "https://localhost:8080/"
        },
        "outputId": "2dbe77bb-47a8-40ad-cfc6-e6c0360446c1"
      },
      "source": [
        "P_A = 0.25\n",
        "P_B = 0.25\n",
        "P_C = 0.5\n",
        "\n",
        "P_a_E = 0.8\n",
        "P_b_E = 0.7\n",
        "P_c_E = 0.9\n",
        "\n",
        "P_E = P_A * P_a_E + P_B * P_b_E + P_C * P_c_E\n",
        "print(P_E)\n",
        "P_e_A = (P_A * P_a_E) / P_E\n",
        "P_e_B = (P_B * P_b_E) / P_E\n",
        "P_e_C = (P_C * P_c_E) / P_E\n",
        "print('Вероятность, что сдавший сессию студент был с факультета A =', round(P_e_A, 3))\n",
        "print('Вероятность, что сдавший сессию студент был с факультета B =', round(P_e_B, 3))\n",
        "print('Вероятность, что сдавший сессию студент был с факультета C', round(P_e_C, 3))\n",
        "# print('Проверка.', P_e_A + P_e_B + P_e_C)"
      ],
      "execution_count": null,
      "outputs": [
        {
          "output_type": "stream",
          "name": "stdout",
          "text": [
            "0.825\n",
            "Вероятность, что мишень поразил стрелок номер 1 = 0.242\n",
            "Вероятность, что мишень поразил стрелок номер 2 = 0.212\n",
            "Вероятность, что мишень поразил стрелок номер 3 = 0.545\n",
            "Проверка. 1.0\n"
          ]
        }
      ]
    },
    {
      "cell_type": "markdown",
      "metadata": {
        "id": "vr6ZnLTSi2i_"
      },
      "source": [
        "**Задание 5.**\n",
        "\n",
        "Устройство состоит из трех деталей. Для первой детали вероятность выйти из строя в первый месяц равна 0.1, для второй - 0.2, для третьей - 0.25. Какова вероятность того, что в первый месяц выйдут из строя: а). все детали б). только две детали в). хотя бы одна деталь г). от одной до двух деталей?\n",
        "\n",
        "Вероятность выйти из строя первой детали $p1 = 0.1$. \n",
        "\n",
        "Обратная вероятность - не выйти из строя $q1 = 0.9$\n",
        "\n",
        "Вероятность выйти из строя второй детали $p2 = 0.2$. \n",
        "\n",
        "Противоположная вероятность $q2 = 0.8$\n",
        "\n",
        "Вероятность выйти из строя третьей детали $p3 = 0.25$. \n",
        "\n",
        "Противоположная вероятность $q2 = 0.75$"
      ]
    },
    {
      "cell_type": "code",
      "metadata": {
        "id": "P6h9HmupTqbq"
      },
      "source": [
        "p1 = 0.1\n",
        "q1 = 1 - p1\n",
        "p2 = 0.2\n",
        "q2 = 1 - p2\n",
        "p3 = 0.25\n",
        "q3 = 1 - p3"
      ],
      "execution_count": null,
      "outputs": []
    },
    {
      "cell_type": "markdown",
      "metadata": {
        "id": "tMnnMGvgTopq"
      },
      "source": [
        "**Вероятность того, что в первый месяц выйдут из строя: а). все детали**\n",
        "\n",
        "$$p1 * p2 * p3 = 0.005$$"
      ]
    },
    {
      "cell_type": "code",
      "metadata": {
        "colab": {
          "base_uri": "https://localhost:8080/"
        },
        "id": "9PuttsZ5T7GC",
        "outputId": "1e43150a-269e-4b19-eada-5d431dbd5b1f"
      },
      "source": [
        "round(p1 * p2 * p3, 3)"
      ],
      "execution_count": null,
      "outputs": [
        {
          "output_type": "execute_result",
          "data": {
            "text/plain": [
              "0.005"
            ]
          },
          "metadata": {},
          "execution_count": 13
        }
      ]
    },
    {
      "cell_type": "markdown",
      "metadata": {
        "id": "2NeKyOI2Tkgl"
      },
      "source": [
        "**Вероятность того, что в первый месяц выйдут из строя: б). только две детали**\n",
        "\n",
        "Нам потребуется рассмотреть $C_{3}^2 = 3$ варианта.\n",
        "\n",
        "$$P2 = p1 * p2 * q3 + p1 * q2 * p3  + q1 * p2 * p3 = 0.08$$\n",
        "\n",
        "Т.е. у нас выйдут из строя или первая деталь вместе со второй (при этом третья не выйдет из строя) или первая с третьей (при рабочей второй) или вторая вместе с третьей (при рабочей первой)."
      ]
    },
    {
      "cell_type": "code",
      "metadata": {
        "colab": {
          "base_uri": "https://localhost:8080/"
        },
        "id": "Ol93yX1UUJX7",
        "outputId": "dc74b0a0-431e-49e0-808a-4c6e71e016b5"
      },
      "source": [
        "P2 = p1 * p2 * q3 + p1 * q2 * p3 + q1 * p2 * p3\n",
        "print(round(P2, 3))"
      ],
      "execution_count": null,
      "outputs": [
        {
          "output_type": "stream",
          "name": "stdout",
          "text": [
            "0.08\n"
          ]
        }
      ]
    },
    {
      "cell_type": "markdown",
      "metadata": {
        "id": "iNlL8h2STLuM"
      },
      "source": [
        "**Вероятность того, что в первый месяц выйдут из строя: в). хотя бы одна деталь.**\n",
        "\n",
        "Тут лучше идти от обратного варианта. Рассмотрим вариант, что ни одна деталь не выйдет из строя. Событие хотя бы одна деталь выйдет из строя и событие ни одна деталь не выйдет из строя образуют полную группу.\n",
        "\n",
        "Вероятность того, что все детали в первый месяц будут работать\n",
        "$$q1 * q2 * q3 = 0.54$$\n",
        "\n",
        "Вероятность того, что выйдет из строя хотя бы одна деталь\n",
        "\n",
        "$$1 - q1 * q2 * q3 = 0.46$$"
      ]
    },
    {
      "cell_type": "code",
      "metadata": {
        "colab": {
          "base_uri": "https://localhost:8080/"
        },
        "id": "eIeuj3PvUxc5",
        "outputId": "40b7fd5b-67e1-47d6-ab12-2c7520bd5269"
      },
      "source": [
        "round(1 - q1 * q2 * q3, 3)"
      ],
      "execution_count": null,
      "outputs": [
        {
          "output_type": "execute_result",
          "data": {
            "text/plain": [
              "0.46"
            ]
          },
          "metadata": {},
          "execution_count": 16
        }
      ]
    },
    {
      "cell_type": "markdown",
      "metadata": {
        "id": "WHgcFnQaU6b6"
      },
      "source": [
        "**Вероятность того, что в первый месяц выйдут из строя: г). от одной до двух деталей?**\n",
        "\n",
        "Т.е. выйдут из строя одна либо 2 детали. 2 детали мы рассмотрели в пункте б.\n",
        "\n",
        "Выйдет из строя одна деталь: это либо первая, либо вторая, либо третья. При этом две оставшиеся детали будут работать.\n",
        "\n",
        "$$P1 = p1 * q2 * q3 + q1 * p2 * q3 + q1 * q2 * p3$$\n",
        "\n",
        "Полный ответ $$P1 + P2 = 0.55 + 0.095 = 0.455$$\n",
        "\n",
        "Ещё один вариант был вычесть из 1 вариант, где все рабочие + где все 3 вышли из строя одновременно."
      ]
    },
    {
      "cell_type": "code",
      "metadata": {
        "colab": {
          "base_uri": "https://localhost:8080/"
        },
        "id": "hO6t7BgtWol3",
        "outputId": "00495d7c-825e-472f-add3-febc387b7ba4"
      },
      "source": [
        "P1 = p1 * q2 * q3  + q1 * p2 * q3 + q1 * q2 *p3\n",
        "print(P1 + P2)\n",
        "# print(round(1 - q1 * q2 * q3 - p1 * p2 *p3, 3))"
      ],
      "execution_count": null,
      "outputs": [
        {
          "output_type": "stream",
          "name": "stdout",
          "text": [
            "0.455\n"
          ]
        }
      ]
    }
  ]
}