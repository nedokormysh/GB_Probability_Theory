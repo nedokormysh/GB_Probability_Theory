{
  "nbformat": 4,
  "nbformat_minor": 0,
  "metadata": {
    "colab": {
      "name": "Probability_Theory_HW_7.ipynb",
      "provenance": [],
      "collapsed_sections": [],
      "authorship_tag": "ABX9TyP+cf4SgWfV5sY6bPBqe5g4",
      "include_colab_link": true
    },
    "kernelspec": {
      "name": "python3",
      "display_name": "Python 3"
    },
    "language_info": {
      "name": "python"
    }
  },
  "cells": [
    {
      "cell_type": "markdown",
      "metadata": {
        "id": "view-in-github",
        "colab_type": "text"
      },
      "source": [
        "<a href=\"https://colab.research.google.com/github/nedokormysh/GB_Probability_Theory/blob/lesson7/Probability_Theory_HW_7.ipynb\" target=\"_parent\"><img src=\"https://colab.research.google.com/assets/colab-badge.svg\" alt=\"Open In Colab\"/></a>"
      ]
    },
    {
      "cell_type": "code",
      "metadata": {
        "id": "B3oj9tFRg2jK"
      },
      "source": [
        "import numpy as np\n",
        "import math\n",
        "import matplotlib.pyplot as plt"
      ],
      "execution_count": null,
      "outputs": []
    },
    {
      "cell_type": "markdown",
      "metadata": {
        "id": "lw2Gm3c6fKhr"
      },
      "source": [
        "**Задание 1.**\n",
        "\n",
        "Даны значения величины заработной платы заемщиков банка (zp) и значения их поведенческого кредитного скоринга (ks): zp = [35, 45, 190, 200, 40, 70, 54, 150, 120, 110], ks = [401, 574, 874, 919, 459, 739, 653, 902, 746, 832]. Используя математические операции, посчитать коэффициенты линейной регрессии, приняв за X заработную плату (то есть, zp - признак), а за y - значения скорингового балла (то есть, ks - целевая переменная). Произвести расчет как с использованием intercept, так и без.\n",
        "\n",
        "$$y = a + bx$$\n",
        "$$ks = a + b \\cdot zp$$\n",
        "\n",
        "$$b = \\frac{\\overline{yx} - \\overline{y} \\cdot {\\overline{x}}}{\\overline{x^2} - (\\overline{x})^2} = \\frac{\\overline{zp \\cdot {ks}}-\\overline{ks} \\cdot \\overline{zp}}{\\overline{zp^2} - \\overline{zp}^2};$$\n",
        "\n",
        "$$a = \\overline{y} - b \\cdot {\\overline{x}} = \\overline{ks} - b \\cdot \\overline{zp}$$\n",
        "\n",
        "$$\\widehat{ks} = a + b \\cdot zp$$\n",
        "\n",
        "$$a = 444.177$$\n",
        "$$b = 2.621$$"
      ]
    },
    {
      "cell_type": "code",
      "metadata": {
        "colab": {
          "base_uri": "https://localhost:8080/"
        },
        "id": "V7-IyygafbRJ",
        "outputId": "e5e68fef-7a09-4c8f-e66e-b16af3a9b7c0"
      },
      "source": [
        "zp = [35, 45, 190, 200, 40, 70, 54, 150, 120, 110]\n",
        "ks = [401, 574, 874, 919, 459, 739, 653, 902, 746, 832]\n",
        "\n",
        "zp = np.array(zp)\n",
        "ks = np.array(ks)\n",
        "\n",
        "b = (np.mean(zp * ks) - np.mean(zp) * np.mean(ks)) / (np.mean(zp**2) - np.mean(zp)**2)\n",
        "# a = np.mean(ks) - b * np.mean(zp)\n",
        "a = ks.mean() - b * zp.mean()\n",
        "ks_hat = a + b * zp\n",
        "\n",
        "mse = ((ks - ks_hat)**2).sum() / len(ks) \n",
        "print(f'b = {round(b, 3)}')\n",
        "print(f'a = {round(a, 3)}')\n",
        "print(f'mse = {round(mse, 3)}')"
      ],
      "execution_count": null,
      "outputs": [
        {
          "output_type": "stream",
          "name": "stdout",
          "text": [
            "b = 2.621\n",
            "a = 444.177\n",
            "mse = 6470.414\n"
          ]
        }
      ]
    },
    {
      "cell_type": "code",
      "metadata": {
        "colab": {
          "base_uri": "https://localhost:8080/",
          "height": 295
        },
        "id": "Iyq3pOnnsqtC",
        "outputId": "7b79d882-b66a-43ce-d468-4506d2450cd5"
      },
      "source": [
        "plt.scatter(zp, ks)\n",
        "# plt.plot(zp, ks)\n",
        "plt.plot(zp, ks_hat, c = 'r', label = 'ks_hat = a + b * zp')\n",
        "plt.xlabel('величина заработной платы')\n",
        "plt.ylabel('поведенческий кредитный скоринг')\n",
        "plt.title('Зависимость скоринга от заработной платы')\n",
        "plt.legend()\n",
        "plt.grid()\n",
        "plt.show()"
      ],
      "execution_count": null,
      "outputs": [
        {
          "output_type": "display_data",
          "data": {
            "image/png": "[encoded data removed]",
            "text/plain": [
              "<Figure size 432x288 with 1 Axes>"
            ]
          },
          "metadata": {
            "needs_background": "light"
          }
        }
      ]
    },
    {
      "cell_type": "markdown",
      "metadata": {
        "id": "Y8mxq_SKW4KN"
      },
      "source": [
        "**Матричный метод без интерсепта.**"
      ]
    },
    {
      "cell_type": "code",
      "metadata": {
        "colab": {
          "base_uri": "https://localhost:8080/"
        },
        "id": "mCns_59RW9Ig",
        "outputId": "99204ba5-eb54-4595-df49-ddc2a2c0c1d2"
      },
      "source": [
        "ZP = zp.reshape(10, 1)\n",
        "ZP"
      ],
      "execution_count": null,
      "outputs": [
        {
          "output_type": "execute_result",
          "data": {
            "text/plain": [
              "array([[ 35],\n",
              "       [ 45],\n",
              "       [190],\n",
              "       [200],\n",
              "       [ 40],\n",
              "       [ 70],\n",
              "       [ 54],\n",
              "       [150],\n",
              "       [120],\n",
              "       [110]])"
            ]
          },
          "metadata": {},
          "execution_count": 19
        }
      ]
    },
    {
      "cell_type": "code",
      "metadata": {
        "colab": {
          "base_uri": "https://localhost:8080/"
        },
        "id": "n51CGMKyX1ci",
        "outputId": "eae066c5-eb08-47f9-b493-7c10ff82ec07"
      },
      "source": [
        "KS = ks.reshape(10, 1)\n",
        "KS"
      ],
      "execution_count": null,
      "outputs": [
        {
          "output_type": "execute_result",
          "data": {
            "text/plain": [
              "array([[401],\n",
              "       [574],\n",
              "       [874],\n",
              "       [919],\n",
              "       [459],\n",
              "       [739],\n",
              "       [653],\n",
              "       [902],\n",
              "       [746],\n",
              "       [832]])"
            ]
          },
          "metadata": {},
          "execution_count": 20
        }
      ]
    },
    {
      "cell_type": "code",
      "metadata": {
        "colab": {
          "base_uri": "https://localhost:8080/"
        },
        "id": "GpoYBxOhXyXy",
        "outputId": "8bb465c8-2690-47ce-decf-82f5fa56fd20"
      },
      "source": [
        "B = np.dot(np.linalg.inv(np.dot(ZP.T, ZP)), ZP.T @ KS)\n",
        "print(B)"
      ],
      "execution_count": null,
      "outputs": [
        {
          "output_type": "stream",
          "name": "stdout",
          "text": [
            "[[5.88982042]]\n"
          ]
        }
      ]
    },
    {
      "cell_type": "markdown",
      "metadata": {
        "id": "--tdXT48YkOk"
      },
      "source": [
        "$$y = \\beta_0 + \\beta_1 \\cdot x$$\n",
        "\n",
        "Т.к. мы решаем без интерсепта, то получаем уравнение.\n",
        "$$y = \\beta_1 \\cdot x$$\n",
        "$$\\beta_1 = 5.889$$"
      ]
    },
    {
      "cell_type": "code",
      "metadata": {
        "colab": {
          "base_uri": "https://localhost:8080/",
          "height": 295
        },
        "id": "F3vLO99wqFH6",
        "outputId": "f2650e82-ea47-4480-da4d-3c9b2f9f51dc"
      },
      "source": [
        "b1 = 5.889\n",
        "ks_b1 = b1 * zp \n",
        "\n",
        "plt.scatter(zp, ks)\n",
        "# plt.plot(zp, ks)\n",
        "plt.plot(zp, ks_b1, c = 'r', label = 'ks_b1 = b1*zp')\n",
        "plt.xlabel('величина заработной платы')\n",
        "plt.ylabel('поведенческий кредитный скоринг')\n",
        "plt.title('Матричный способ решения без интерсепта')\n",
        "plt.legend()\n",
        "plt.grid()\n",
        "plt.show()"
      ],
      "execution_count": null,
      "outputs": [
        {
          "output_type": "display_data",
          "data": {
            "image/png": "[encoded data removed]",
            "text/plain": [
              "<Figure size 432x288 with 1 Axes>"
            ]
          },
          "metadata": {
            "needs_background": "light"
          }
        }
      ]
    },
    {
      "cell_type": "markdown",
      "metadata": {
        "id": "VltYGP5zZHiQ"
      },
      "source": [
        "**Матричный метод с интерсептом.**\n",
        "\n",
        "$$y = \\beta_0 + \\beta_1 \\cdot x$$\n",
        "\n",
        "$$\\beta_0 = 444.17$$\n",
        "$$\\beta_1 = 2.62$$"
      ]
    },
    {
      "cell_type": "code",
      "metadata": {
        "colab": {
          "base_uri": "https://localhost:8080/"
        },
        "id": "YzC611RBZUib",
        "outputId": "be7e2bff-743a-44de-e048-381b9631d079"
      },
      "source": [
        "ZP = np.hstack([np.ones((10, 1)), ZP])\n",
        "\n",
        "B = np.dot(np.linalg.inv(np.dot(ZP.T, ZP)),ZP.T @KS)\n",
        "print(B)"
      ],
      "execution_count": null,
      "outputs": [
        {
          "output_type": "stream",
          "name": "stdout",
          "text": [
            "[[444.17735732]\n",
            " [  2.62053888]]\n"
          ]
        }
      ]
    },
    {
      "cell_type": "code",
      "metadata": {
        "colab": {
          "base_uri": "https://localhost:8080/",
          "height": 295
        },
        "id": "ChZ8521Bq7Vi",
        "outputId": "5da1e704-25eb-4015-db62-15460ce9b59f"
      },
      "source": [
        "b0 = 444.17\n",
        "b1 = 2.62\n",
        "ks_b0_b1 =b0 + b1 * zp \n",
        "\n",
        "plt.scatter(zp, ks)\n",
        "\n",
        "plt.plot(zp, ks_b0_b1, c = 'r', label = 'ks_b0_b1 = b0 + b1*zp')\n",
        "plt.xlabel('величина заработной платы')\n",
        "plt.ylabel('поведенческий кредитный скоринг')\n",
        "plt.title('Матричный способ решения с интерсептом')\n",
        "plt.legend()\n",
        "plt.grid()\n",
        "plt.show()"
      ],
      "execution_count": null,
      "outputs": [
        {
          "output_type": "display_data",
          "data": {
            "image/png": "[encoded data removed]",
            "text/plain": [
              "<Figure size 432x288 with 1 Axes>"
            ]
          },
          "metadata": {
            "needs_background": "light"
          }
        }
      ]
    },
    {
      "cell_type": "markdown",
      "metadata": {
        "id": "wGaa2Tb3fvfU"
      },
      "source": [
        "**Задание 2.**\n",
        "\n",
        "Посчитать коэффициент линейной регрессии при заработной плате (zp), используя градиентный спуск (без intercept)."
      ]
    },
    {
      "cell_type": "code",
      "metadata": {
        "id": "Up4Tb3owg7aM"
      },
      "source": [
        "B1 = 0.1\n",
        "alpha = 1e-6\n",
        "# alpha = 0.00000000000001\n",
        "n = 10\n",
        "# print(alpha)"
      ],
      "execution_count": null,
      "outputs": []
    },
    {
      "cell_type": "code",
      "metadata": {
        "id": "PhedQ7PCfwJR"
      },
      "source": [
        "def mse_(B1, y = ks, X = zp, n = 10):\n",
        "    return np.sum((B1 * X - y) ** 2) / n\n",
        "# print(mse())"
      ],
      "execution_count": null,
      "outputs": []
    },
    {
      "cell_type": "code",
      "metadata": {
        "colab": {
          "base_uri": "https://localhost:8080/"
        },
        "id": "alaE36xltYdG",
        "outputId": "46fc44eb-1746-4201-dddb-08073f4c4712"
      },
      "source": [
        "for i in range (300):\n",
        "    B1 -= alpha * (2 / n) * np.sum((B1 * zp - ks) * zp)\n",
        "    # print(f'Iteration: {i}, B1 = {B1}, mse = {mse_(B1)}')\n",
        "    if i % 30 == 0:\n",
        "        print(f'Iteration: {i}, B1 = {B1}, mse = {mse_(B1)}')"
      ],
      "execution_count": null,
      "outputs": [
        {
          "output_type": "stream",
          "name": "stdout",
          "text": [
            "Iteration: 0, B1 = 0.25952808, mse = 493237.7212546963\n",
            "Iteration: 30, B1 = 3.4547782236263824, mse = 138204.25062502263\n",
            "Iteration: 60, B1 = 4.836690291080364, mse = 71796.25222021657\n",
            "Iteration: 90, B1 = 5.434352720103083, mse = 59374.825462025976\n",
            "Iteration: 120, B1 = 5.692835432193034, mse = 57051.433003054815\n",
            "Iteration: 150, B1 = 5.804626485478126, mse = 56616.849068093856\n",
            "Iteration: 180, B1 = 5.852974939784972, mse = 56535.56138215128\n",
            "Iteration: 210, B1 = 5.873885137561711, mse = 56520.35675226433\n",
            "Iteration: 240, B1 = 5.882928578088004, mse = 56517.512769595625\n",
            "Iteration: 270, B1 = 5.8868397709626885, mse = 56516.98081074626\n"
          ]
        }
      ]
    },
    {
      "cell_type": "markdown",
      "metadata": {
        "id": "c-toTKBfvPBW"
      },
      "source": [
        "**Задание 3.**\n",
        "\n",
        "Произвести вычисления как в пункте 2, но с вычислением intercept. Учесть, что изменение коэффициентов должно производиться\n",
        "на каждом шаге одновременно (то есть изменение одного коэффициента не должно влиять на изменение другого во время одной итерации).\n",
        "\n",
        "Потребуется найти 2 производные: одна по $\\beta_0$, вторая по $\\beta_1$"
      ]
    },
    {
      "cell_type": "code",
      "metadata": {
        "colab": {
          "base_uri": "https://localhost:8080/"
        },
        "id": "fO1fCZ9yvbUO",
        "outputId": "6a9edb77-23aa-4524-830f-5b5049b492f8"
      },
      "source": [
        "B0 = 0.1\n",
        "B1 = 0.1\n",
        "alpha = 1e-5\n",
        "n = 10\n",
        "\n",
        "def mse_(B0, B1, y = ks, X = zp, n = 10):\n",
        "    return np.sum((B0 + B1 * X - y) ** 2) / n\n",
        "\n",
        "for i in range (2500000):\n",
        "    B0 -= alpha * (2 / n) * np.sum((B0 + B1 * zp - ks))\n",
        "    B1 -= alpha * (2 / n) * np.sum((B0 +B1 * zp - ks) * zp)\n",
        "    if i % 100000 == 0:\n",
        "        print(f'Iteration: {i}, B0 = {B0} B1 = {B1}, mse = {mse_(B0, B1)}')"
      ],
      "execution_count": null,
      "outputs": [
        {
          "output_type": "stream",
          "name": "stdout",
          "text": [
            "Iteration: 0, B0 = 0.1139932 B1 = 1.6950496217904003, mse = 298808.66922912706\n",
            "Iteration: 100000, B0 = 176.8199005170983 B1 = 4.588397987371905, mse = 24602.38444530712\n",
            "Iteration: 200000, B0 = 283.19812633817304 B1 = 3.805411184788063, mse = 13043.966032682154\n",
            "Iteration: 300000, B0 = 347.2497716180555 B1 = 3.333965148244051, mse = 8853.585092132746\n",
            "Iteration: 400000, B0 = 385.816059327739 B1 = 3.05010165956241, mse = 7334.4073119145005\n",
            "Iteration: 500000, B0 = 409.03729808290353 B1 = 2.8791839426649335, mse = 6783.645660253098\n",
            "Iteration: 600000, B0 = 423.01909309994124 B1 = 2.776272271688333, mse = 6583.972915633631\n",
            "Iteration: 700000, B0 = 431.4377047838163 B1 = 2.714307881949033, mse = 6511.583698222517\n",
            "Iteration: 800000, B0 = 436.506654986377 B1 = 2.676998356612191, mse = 6485.339761888725\n",
            "Iteration: 900000, B0 = 439.5587325878761 B1 = 2.6545338300233094, mse = 6475.825303535319\n",
            "Iteration: 1000000, B0 = 441.3964262548758 B1 = 2.6410076607593775, mse = 6472.375938447427\n",
            "Iteration: 1100000, B0 = 442.50292433738497 B1 = 2.632863386975885, mse = 6471.1254080370045\n",
            "Iteration: 1200000, B0 = 443.16916051623167 B1 = 2.6279596190157175, mse = 6470.672041615207\n",
            "Iteration: 1300000, B0 = 443.57030955844726 B1 = 2.6250069996850263, mse = 6470.50767846921\n",
            "Iteration: 1400000, B0 = 443.8118463575245 B1 = 2.623229191072821, mse = 6470.448090369029\n",
            "Iteration: 1500000, B0 = 443.9572786511766 B1 = 2.622158750522415, mse = 6470.426487340797\n",
            "Iteration: 1600000, B0 = 444.0448452336586 B1 = 2.6215142250295194, mse = 6470.41865539403\n",
            "Iteration: 1700000, B0 = 444.09757015585444 B1 = 2.621126148259785, mse = 6470.415816005514\n",
            "Iteration: 1800000, B0 = 444.12931648353236 B1 = 2.62089248243757, mse = 6470.414786615584\n",
            "Iteration: 1900000, B0 = 444.14843133999904 B1 = 2.6207517893565266, mse = 6470.41441342128\n",
            "Iteration: 2000000, B0 = 444.15994063146525 B1 = 2.6206670763125217, mse = 6470.414278123679\n",
            "Iteration: 2100000, B0 = 444.1668705181932 B1 = 2.6206160695410743, mse = 6470.414229072976\n",
            "Iteration: 2200000, B0 = 444.1710430886792 B1 = 2.6205853577332947, mse = 6470.41421129017\n",
            "Iteration: 2300000, B0 = 444.17355544497156 B1 = 2.620566865774013, mse = 6470.414204843202\n",
            "Iteration: 2400000, B0 = 444.1750681657634 B1 = 2.620555731536655, mse = 6470.414202505924\n"
          ]
        }
      ]
    }
  ]
}