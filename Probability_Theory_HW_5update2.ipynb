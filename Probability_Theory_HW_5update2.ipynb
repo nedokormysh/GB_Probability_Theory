{
  "nbformat": 4,
  "nbformat_minor": 0,
  "metadata": {
    "colab": {
      "name": "Probability_Theory_HW_5update2.ipynb",
      "provenance": [],
      "collapsed_sections": [],
      "authorship_tag": "ABX9TyPPgBAbippcsmNx3hkYKWa8",
      "include_colab_link": true
    },
    "kernelspec": {
      "name": "python3",
      "display_name": "Python 3"
    },
    "language_info": {
      "name": "python"
    }
  },
  "cells": [
    {
      "cell_type": "markdown",
      "metadata": {
        "id": "view-in-github",
        "colab_type": "text"
      },
      "source": [
        "<a href=\"https://colab.research.google.com/github/nedokormysh/GB_Probability_Theory/blob/lesson5/Probability_Theory_HW_5update2.ipynb\" target=\"_parent\"><img src=\"https://colab.research.google.com/assets/colab-badge.svg\" alt=\"Open In Colab\"/></a>"
      ]
    },
    {
      "cell_type": "code",
      "metadata": {
        "id": "pN_-99f_8z9z"
      },
      "source": [
        "import matplotlib.pyplot as plt\n",
        "import numpy as np\n",
        "import scipy.stats as stats\n",
        "import math\n",
        "from statistics import stdev"
      ],
      "execution_count": null,
      "outputs": []
    },
    {
      "cell_type": "markdown",
      "metadata": {
        "id": "2nMWJu7WNstJ"
      },
      "source": [
        "**Задание 1.**\n",
        "\n",
        "Известно, что генеральная совокупность распределена нормально со средним квадратическим отклонением, равным 16. Найти доверительный интервал для оценки математического ожидания с надежностью 0.95, если выборочная средняя M = 80, а объем выборки n = 256.\n",
        "\n",
        "$$Z = \\dfrac{\\overline{X} - \\mu}{\\sigma / \\sqrt{n}}$$\n",
        "\n",
        "$$Z = \\dfrac{\\overline{X} - \\mu}{\\frac{\\sigma}{\\sqrt n} }$$\n",
        "\n",
        "$$\\alpha = 1 - 0.95 = 0.05$$\n",
        "$$$$\n",
        "$$\\alpha/2 = 0,025 \\Rightarrow Z = 1.96$$ \n",
        "$$$$\n",
        "$$\\sigma = std = 16$$\n",
        "$$$$\n",
        "$$\\mu = 80$$\n",
        "$$n = 256$$\n",
        "\n",
        "Доверительный интервал\n",
        "\n",
        "$$ \\left( \\overline{X} - \\frac{\\sigma}{\\sqrt{n}} \\cdot Z_{\\frac{\\alpha}{2}}, \\overline{X} + \\frac{\\sigma}{\\sqrt{n}} \\cdot Z_{\\frac{\\alpha}{2}}\n",
        "         \\right) $$\n",
        "\n",
        "Ответ: $(78.04, 81.96)$"
      ]
    },
    {
      "cell_type": "code",
      "metadata": {
        "colab": {
          "base_uri": "https://localhost:8080/"
        },
        "id": "jvY3LXzS1GdR",
        "outputId": "0148e6e0-8763-49ab-83e0-a2109e9b67ea"
      },
      "source": [
        "u = 80\n",
        "n = 256\n",
        "sigma = 16\n",
        "Z = 1.96\n",
        "\n",
        "Xl = u - (sigma / math.sqrt(n) * Z)\n",
        "Xr = u + (sigma / math.sqrt(n) * Z)\n",
        "print('Левая граница', Xl)\n",
        "print('Правая граница', Xr)"
      ],
      "execution_count": null,
      "outputs": [
        {
          "output_type": "stream",
          "name": "stdout",
          "text": [
            "Левая граница 78.04\n",
            "Правая граница 81.96\n"
          ]
        }
      ]
    },
    {
      "cell_type": "markdown",
      "metadata": {
        "id": "dM7MZ_z3P5FB"
      },
      "source": [
        "**Задание 2.**\n",
        "\n",
        "В результате 10 независимых измерений некоторой величины X, выполненных с одинаковой точностью, получены опытные данные: 6.9, 6.1, 6.2, 6.8, 7.5, 6.3, 6.4, 6.9, 6.7, 6.1 Предполагая, что результаты измерений подчинены нормальному закону распределения вероятностей, оценить истинное значение величины X при помощи доверительного интервала, покрывающего это значение с доверительной вероятностью 0,95.\n",
        "\n",
        "\n",
        "Т.к. мы не знаем СКО генеральной совокупности, то используем критерий Стьюдента.\n",
        "\n",
        "Нам потребуется\n",
        "$$n = 10$$\n",
        "$$$$\n",
        "$$\\overline{X} =\\frac{6.9 + 6.1 + 6.2 + 6.8 + 7.5 + 6.3 + 6.4 + 6.9 + 6.7 + 6.1}{10} = 6.59$$\n",
        "\n",
        "$$\\alpha = 1 - 0.95 = 0.05$$\n",
        "$$$$\n",
        "$$\\alpha/2 = 0.025 \\Rightarrow T = 2.262$$ \n",
        "\n",
        "Также нам потребуется несмещённая сигма.\n",
        "\n",
        "$$\\sigma = 0.451$$\n",
        "\n",
        "Доверительный интервал\n",
        "\n",
        "\n",
        "$$ \\left( \\overline{X} - \\frac{\\sigma}{\\sqrt{n}} \\cdot T_{\\frac{\\alpha}{2}}, \\overline{X} + \\frac{\\sigma}{\\sqrt{n}} \\cdot T_{\\frac{\\alpha}{2}} \\right)$$\n",
        "\n",
        "Ответ: $(6.268, 6.912)$"
      ]
    },
    {
      "cell_type": "code",
      "metadata": {
        "colab": {
          "base_uri": "https://localhost:8080/"
        },
        "id": "6Ov4o1qiJ6aO",
        "outputId": "b869c880-7f5e-4a66-9445-3f34f366bd9d"
      },
      "source": [
        "X = [6.9, 6.1, 6.2, 6.8, 7.5, 6.3, 6.4, 6.9, 6.7, 6.1]\n",
        "n = len(X)\n",
        "# print(n)\n",
        "Xmean = round(np.mean(X), 3)\n",
        "print('Mean = ', Xmean)"
      ],
      "execution_count": null,
      "outputs": [
        {
          "output_type": "stream",
          "name": "stdout",
          "text": [
            "Mean =  6.59\n"
          ]
        }
      ]
    },
    {
      "cell_type": "code",
      "metadata": {
        "colab": {
          "base_uri": "https://localhost:8080/"
        },
        "id": "Y3sJxpJXrxE0",
        "outputId": "1ac9bb02-5c4a-475c-96c3-1e1e04f413ea"
      },
      "source": [
        "sigma = math.sqrt(sum([(el - Xmean) ** 2 for el in X]) / (n - 1))\n",
        "print(round(sigma, 3))\n",
        "# sigmaF = np.std(X, ddof=1)\n",
        "# print(sigmaF)"
      ],
      "execution_count": null,
      "outputs": [
        {
          "output_type": "stream",
          "name": "stdout",
          "text": [
            "0.451\n"
          ]
        }
      ]
    },
    {
      "cell_type": "code",
      "metadata": {
        "colab": {
          "base_uri": "https://localhost:8080/"
        },
        "id": "DQ4bVJOdzKei",
        "outputId": "149fdf27-34b7-4c03-e708-04bf6c4c2598"
      },
      "source": [
        "T = 2.262\n",
        "Xl = Xmean - (sigma / math.sqrt(n) * T)\n",
        "Xr = Xmean + (sigma / math.sqrt(n) * T)\n",
        "print('Левая граница', round(Xl, 3))\n",
        "print('Правая граница', round(Xr, 3))"
      ],
      "execution_count": null,
      "outputs": [
        {
          "output_type": "stream",
          "name": "stdout",
          "text": [
            "Левая граница 6.268\n",
            "Правая граница 6.912\n"
          ]
        }
      ]
    },
    {
      "cell_type": "markdown",
      "metadata": {
        "id": "qRhCZo0UP_Bm"
      },
      "source": [
        " 3,4 задачи решать через тестирование гипотезы"
      ]
    },
    {
      "cell_type": "markdown",
      "metadata": {
        "id": "GDE0JrAtP9R4"
      },
      "source": [
        "**Задание 3.**\n",
        "\n",
        "Утверждается, что шарики для подшипников, изготовленные автоматическим станком, имеют средний диаметр 17 мм. Используя односторонний критерий с α=0,05, проверить эту гипотезу, если в выборке из n=100 шариков средний диаметр оказался равным 17.5 мм, а дисперсия известна и равна 4 кв.мм.\n",
        "\n",
        "$$Z = \\frac{\\overline{X} - \\mu}{\\sigma / \\sqrt{n}}$$\n",
        "\n",
        "$$\\mu_0 = 17$$\n",
        "$$\\mu = 17.5$$\n",
        "$$n = 100$$\n",
        "$$D = 4$$\n",
        "$$\\sigma = \\sqrt{D} = 2$$\n",
        "\n",
        "\n",
        "Гипотеза $H_0: \\mu = \\mu_0$\n",
        "\n",
        "Гипотеза $H_1: \\mu > \\mu_0$\n",
        "\n",
        "\n",
        "Если по таблице левых значений, то мы должны 1 - 0,05 = 0,95. И производим поиск Z, исходя из площади, которую мы определили как уровень значимости.\n",
        "$$Z_{table} = 1,64$$\n",
        "\n",
        "$$Z_{calc} = \\frac{\\overline{X} - \\mu}{\\sigma / \\sqrt{n}} =  \\frac{\\mu - \\mu_{0}}{\\sigma / \\sqrt{n}} = \\frac{17.5 - 17}{2 / 100} = 2.5$$\n",
        "$$$$\n",
        "\n",
        "$Z_{calc} > Z_{table} \\Rightarrow$ верна гипотеза $H_1$ при уровне значимости 5%"
      ]
    },
    {
      "cell_type": "code",
      "metadata": {
        "colab": {
          "base_uri": "https://localhost:8080/"
        },
        "id": "bC74llWE1aWr",
        "outputId": "19fd0a34-088e-489f-c52e-9fbc0b5839a5"
      },
      "source": [
        "u0 = 17\n",
        "u = 17.5\n",
        "D = 4\n",
        "n = 100\n",
        "\n",
        "Ztable = stats.norm.ppf(1 - 0.05)\n",
        "Zcalc = (u - u0) / (math.sqrt(D) / math.sqrt(n))\n",
        "print(Zcalc)"
      ],
      "execution_count": 4,
      "outputs": [
        {
          "output_type": "stream",
          "name": "stdout",
          "text": [
            "2.5\n"
          ]
        }
      ]
    },
    {
      "cell_type": "code",
      "metadata": {
        "colab": {
          "base_uri": "https://localhost:8080/",
          "height": 265
        },
        "id": "AuJT_ec5KFJn",
        "outputId": "2da7f52e-0feb-46dd-82a7-c97f74806240"
      },
      "source": [
        "import matplotlib.pyplot as plt\n",
        "import numpy as np\n",
        "import scipy.stats as stats\n",
        "import math\n",
        "\n",
        "mu0 = 17\n",
        "variance0 = 4\n",
        "sigma0 = math.sqrt(variance0) / math.sqrt(n)\n",
        "\n",
        "mu1 = 17.5\n",
        "variance1 = 4\n",
        "sigma1 = math.sqrt(variance0) / math.sqrt(n)\n",
        "x = np.linspace(16, 18.5, 100)\n",
        "\n",
        "y0 = stats.norm.pdf(x, mu0, sigma0)\n",
        "y1 = stats.norm.pdf(x, mu1, sigma1)\n",
        "plt.plot(x, y0)\n",
        "plt.plot(x, y1)\n",
        "\n",
        "x_alpha =  1.64 * sigma0 + mu0\n",
        "plt.axvline(x_alpha, 0, 1, c='r')\n",
        "plt.grid('True')\n",
        "plt.show()"
      ],
      "execution_count": 6,
      "outputs": [
        {
          "output_type": "display_data",
          "data": {
            "image/png": "[encoded data removed]",
            "text/plain": [
              "<Figure size 432x288 with 1 Axes>"
            ]
          },
          "metadata": {
            "needs_background": "light"
          }
        }
      ]
    },
    {
      "cell_type": "markdown",
      "metadata": {
        "id": "heAy6m4UQJTu"
      },
      "source": [
        "**Задание 4.**\n",
        "\n",
        "Продавец утверждает, что средний вес пачки печенья составляет 200 г. Из партии извлечена выборка из 10 пачек. Вес каждой пачки составляет: 202, 203, 199, 197, 195, 201, 200, 204, 194, 190. Известно, что их веса распределены нормально.\n",
        "Верно ли утверждение продавца, если учитывать, что доверительная вероятность равна 99%?\n",
        "\n",
        "Нам потребуется\n",
        "$$n = 10$$\n",
        "$$\\mu_0 = 200$$\n",
        "$$$$\n",
        "$$\\overline{X} =\\frac{202 + 203 + 199 + 197 + 195 + 201 + 200 + 204 + 194 + 190}{10} = 198.5$$\n",
        "\n",
        "Из условия мы должны проверить двусторонний критерий, т.е. и то, что средний вес партии больше изначального среднего значения и то, что меньше. \n",
        "\n",
        "Т.е. проверяем $\\mu != \\mu_0$\n",
        "\n",
        "Гипотеза $H_0: \\mu = \\mu_0$\n",
        "\n",
        "Гипотеза $H_1: \\mu != \\mu_0$\n",
        "\n",
        "$$T_{table} = 3.249$$\n",
        "\n",
        "$$$$\n",
        "\n",
        "$$T_{calc}  = \\frac{\\overline{X} - \\mu}{\\sigma_{несмещённая} / \\sqrt{n}} = \\frac{\\overline{X} - \\mu_0}{\\sigma_{несмещённая} / \\sqrt{n}} = \\frac{198.5 - 200}{4.453 / 3.162} = -1.065$$\n",
        "\n",
        "$ -T_{table} < T_{calc}$\n",
        "\n",
        "$ T_{calc} < T_{table} \\Rightarrow$\n",
        "\n",
        "Гипотеза $H_0$ верна при уровне значимости 1%"
      ]
    },
    {
      "cell_type": "code",
      "metadata": {
        "colab": {
          "base_uri": "https://localhost:8080/"
        },
        "id": "uFKXf9pzWqmV",
        "outputId": "334bb4b4-d286-4973-ed7b-c851b4721130"
      },
      "source": [
        "weight = [202, 203, 199, 197, 195, 201, 200, 204, 194, 190]\n",
        "\n",
        "mu0 = 200\n",
        "n = len(weight)\n",
        "mean = np.mean(weight)\n",
        "print('Среднее значение', np.mean(weight))\n",
        "stdn = np.std(weight, ddof=1)\n",
        "print('Несмещённое значение СКО', round(stdn, 3))\n",
        "\n",
        "Tcalc = (np.mean(weight) - 200)/(stdn / math.sqrt(n))\n",
        "print('Tcalc = ', round(Tcalc, 3))\n",
        "# Ttable = stats.t.ppf(0.99, 9)\n",
        "# print('Ttable = ', Ttable)"
      ],
      "execution_count": null,
      "outputs": [
        {
          "output_type": "stream",
          "name": "stdout",
          "text": [
            "Среднее значение 198.5\n",
            "Несмещённое значение СКО 4.453\n",
            "Tcalc =  -1.065\n"
          ]
        }
      ]
    }
  ]
}