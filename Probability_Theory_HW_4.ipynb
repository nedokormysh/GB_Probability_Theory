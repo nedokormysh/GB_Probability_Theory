{
  "nbformat": 4,
  "nbformat_minor": 0,
  "metadata": {
    "colab": {
      "name": "Probability_Theory_HW_4.ipynb",
      "provenance": [],
      "collapsed_sections": [],
      "authorship_tag": "ABX9TyNhy1JeWVG0T5LsumLS0bVo",
      "include_colab_link": true
    },
    "kernelspec": {
      "name": "python3",
      "display_name": "Python 3"
    },
    "language_info": {
      "name": "python"
    }
  },
  "cells": [
    {
      "cell_type": "markdown",
      "metadata": {
        "id": "view-in-github",
        "colab_type": "text"
      },
      "source": [
        "<a href=\"https://colab.research.google.com/github/nedokormysh/GB_Probability_Theory/blob/lesson4/Probability_Theory_HW_4.ipynb\" target=\"_parent\"><img src=\"https://colab.research.google.com/assets/colab-badge.svg\" alt=\"Open In Colab\"/></a>"
      ]
    },
    {
      "cell_type": "code",
      "metadata": {
        "id": "H5eIeYYutcrV"
      },
      "source": [
        "import numpy as np"
      ],
      "execution_count": 1,
      "outputs": []
    },
    {
      "cell_type": "markdown",
      "metadata": {
        "id": "hdVcEA1ptrLW"
      },
      "source": [
        "**Задание 1.**\n",
        "\n",
        "Случайная непрерывная величина A имеет равномерное распределение на промежутке (200, 800].\n",
        "Найдите ее среднее значение и дисперсию.\n",
        "\n",
        "$$M(A) = \\frac{a + b}{2} = \\frac{200 + 800}{2} = 500$$"
      ]
    },
    {
      "cell_type": "code",
      "metadata": {
        "colab": {
          "base_uri": "https://localhost:8080/"
        },
        "id": "ZPXvKXttubq9",
        "outputId": "1ba59240-1967-4539-a3aa-13430c67bae3"
      },
      "source": [
        "A = ([el for el in range(201, 801)])\n",
        "# print(A)\n",
        "print(round(np.mean(A)))"
      ],
      "execution_count": 5,
      "outputs": [
        {
          "output_type": "stream",
          "name": "stdout",
          "text": [
            "500\n"
          ]
        }
      ]
    },
    {
      "cell_type": "markdown",
      "metadata": {
        "id": "LVkg-NEQyBdj"
      },
      "source": [
        "$$D = \\frac{(b - a)^2}{12} = \\frac{(800 - 200)^2}{12} = \\frac{600^2}{12} = 30000$$"
      ]
    },
    {
      "cell_type": "code",
      "metadata": {
        "colab": {
          "base_uri": "https://localhost:8080/"
        },
        "id": "iK6LxtC4ydUx",
        "outputId": "6075d10d-8a5e-4b0c-a385-a57f394267a0"
      },
      "source": [
        "round(np.var(A))"
      ],
      "execution_count": null,
      "outputs": [
        {
          "output_type": "execute_result",
          "data": {
            "text/plain": [
              "30000"
            ]
          },
          "metadata": {},
          "execution_count": 8
        }
      ]
    },
    {
      "cell_type": "markdown",
      "metadata": {
        "id": "SVoQ2NjQIOf7"
      },
      "source": [
        "**Задание 2.**\n",
        "\n",
        "О случайной непрерывной равномерно распределенной величине B известно, что ее дисперсия равна 0.2.\n",
        "Можно ли найти правую границу величины B и ее среднее значение зная, что левая граница равна 0.5?\n",
        "Если да, найдите ее.\n",
        "\n",
        "a = 0.5\n",
        "\n",
        "$$D = \\frac{(b - 0.5)^2}{12} = \\frac{(b - 0.5)^2}{12} = 0.2$$\n",
        "$$$$\n",
        "$$(b - 0.5)^2 = 2.4$$\n",
        "$$b = \\sqrt{2.4} + 0.5$$\n",
        "\n",
        "\n",
        "$$M(B) = \\frac{b + a}{2} = \\frac{2.049 + 0.5}{2} \\approx 1.275$$"
      ]
    },
    {
      "cell_type": "code",
      "metadata": {
        "colab": {
          "base_uri": "https://localhost:8080/"
        },
        "id": "PPcKwG0ttwMN",
        "outputId": "247d618e-39e5-4505-f002-de7ea5e8ac6f"
      },
      "source": [
        "a = 0.5\n",
        "b = np.sqrt(2.4) + 0.5\n",
        "print('b =', round(b, 3))\n",
        "print('M(B) = ', round((b + a)/2, 3))"
      ],
      "execution_count": null,
      "outputs": [
        {
          "output_type": "stream",
          "name": "stdout",
          "text": [
            "b = 2.049\n",
            "M(B) =  1.275\n"
          ]
        }
      ]
    },
    {
      "cell_type": "markdown",
      "metadata": {
        "id": "ie6SV1t7IPiL"
      },
      "source": [
        "**Задание 3.**\n",
        "\n",
        "Непрерывная случайная величина X распределена нормально и задана плотностью распределения\n",
        "f(x) = (1 / (4 * sqrt(2*pi))) * (exp(-(x+2)**2) / 32).\n",
        "Найдите:\n",
        "а). M(X)\n",
        "б). D(X)\n",
        "в). std(X) (среднее квадратичное отклонение)\n",
        "\n",
        "\n",
        "$$f(x) = \\frac{1}{\\sigma \\sqrt{2 \\pi}} e ^ {- \\frac{(x - a)^2}{2 \\sigma^2}},$$\n",
        "\n",
        "$$f(x) = \\frac{1}{4 \\sqrt{2 * \\pi}} e ^ {-\\frac{(x + 2)^2}{32}}$$\n",
        "\n",
        "a) $M(X) = a = -2$\n",
        "\n",
        "б) $D(X) = \\sigma^2 = 16$\n",
        "\n",
        "в) $std(X) = \\sigma = 4$"
      ]
    },
    {
      "cell_type": "markdown",
      "metadata": {
        "id": "hlkXiogLeO5X"
      },
      "source": [
        "**Задание 4.**\n",
        "\n",
        "Рост взрослого населения города X имеет нормальное распределение.\n",
        "Причем, средний рост равен 174 см, а среднее квадратичное отклонение равно 8 см.\n",
        "Какова вероятность того, что случайным образом выбранный взрослый человек имеет рост:\n",
        "\n",
        "а). больше 182 см\n",
        "\n",
        "б). больше 190 см\n",
        "\n",
        "в). от 166 см до 190 см\n",
        "\n",
        "г). от 166 см до 182 см\n",
        "\n",
        "д). от 158 см до 190 см\n",
        "\n",
        "е). не выше 150 см или не ниже 190 см\n",
        "\n",
        "ё). не выше 150 см или не ниже 198 см\n",
        "\n",
        "ж). ниже 166 см."
      ]
    },
    {
      "cell_type": "markdown",
      "metadata": {
        "id": "LDEHJJZtwPT6"
      },
      "source": [
        "$$Z = \\frac{X - M(X)}{\\sigma}$$\n",
        "\n",
        "**а). больше 182 см**\n",
        "\n",
        "$Z = \\frac{182 - 174}{8} = 1$\n",
        "\n",
        "Требуемое значение из Z-таблицы (левая сторона) 0.8413. Нам же нужно значение больше.\n",
        "\n",
        "$$P = 1 - 0.8413 = 0.1587$$\n",
        "\n",
        "**б). больше 190 см**\n",
        "\n",
        "$Z = \\frac{190 - 174}{8} = 2$\n",
        "\n",
        "Требуемое значение из Z-таблицы (левая сторона) 0.9772. Нам же нужно значение больше.\n",
        "\n",
        "$$P = 1 - 0.9772 = 0.0228$$\n",
        "\n",
        "**в). от 166 см до 190 см**\n",
        "\n",
        "Потребуется вычесть площадь для вероятности людей иметь рост ниже 166 из вероятности людей иметь рост ниже 190. Для 190 значение берём из предыдущего пункта\n",
        "\n",
        "$Z = \\frac{166 - 174}{8} = -1$\n",
        "\n",
        "Получаем значение из таблицы для Z = 0.1587\n",
        "\n",
        "$$P = 0.9772 - 0.1587 = 0.8185$$\n",
        "\n",
        "**г). от 166 см до 182 см**\n",
        "\n",
        "Для 166 имеем значение 0.1587\n",
        "Для 182 имеем значение 0.8413\n",
        "\n",
        "$$P = 0.8413 - 0.1587 = 0.6826$$\n",
        "\n",
        "**д). от 158 см до 190 см**\n",
        "\n",
        "$Z = \\frac{158 - 174}{8} = -2$\n",
        "\n",
        "$$P = 0.9772 - 0.0228 = 0.9544$$\n",
        "\n",
        "**е). не выше 150 см или не ниже 190 см**\n",
        "\n",
        "Не ниже 190 находили в пункте б.\n",
        "\n",
        "Для 150\n",
        "\n",
        "$Z = \\frac{150 - 174}{8} = -3$\n",
        "\n",
        "$$P = 0.0013 + 0.0228 = 0.0241$$\n",
        "\n",
        "**ё). не выше 150 см или не ниже 198 см**\n",
        "\n",
        "$Z = \\frac{198 - 174}{8} = 3$\n",
        "\n",
        "$$P = (1 - 0.9987) + 0.0013 = 0.0026$$\n",
        "**ж). ниже 166 см.**\n",
        "\n",
        "$Z = \\frac{166 - 174}{8} = -1$\n",
        "$$$$\n",
        "$$P = 0.1587$$"
      ]
    },
    {
      "cell_type": "markdown",
      "metadata": {
        "id": "Vzb-wamGrrYx"
      },
      "source": [
        "**Задание 5.**\n",
        "\n",
        "На сколько сигм (средних квадратичных отклонений) отклоняется рост человека, равный 190 см, от\n",
        "математического ожидания роста в популяции, в которой M(X) = 178 см и D(X) = 25 кв.см?\n",
        "\n",
        "$$Z = \\frac{X - M(X)}{\\sigma}$$\n",
        "$$$$\n",
        "$$Z = \\frac{190 - 178}{5} =  \\frac{12}{5} = 2.4$$\n",
        "\n",
        "Рост человека (190 см) отклоняется на 2.4 сигмы от среднего значения (178 см)."
      ]
    }
  ]
}