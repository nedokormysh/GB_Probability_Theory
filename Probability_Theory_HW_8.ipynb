{
  "nbformat": 4,
  "nbformat_minor": 0,
  "metadata": {
    "colab": {
      "name": "Probability_Theory_HW_8.ipynb",
      "provenance": [],
      "collapsed_sections": [],
      "authorship_tag": "ABX9TyMvoPiA8xrS2rXRzHph1BLT",
      "include_colab_link": true
    },
    "kernelspec": {
      "name": "python3",
      "display_name": "Python 3"
    },
    "language_info": {
      "name": "python"
    }
  },
  "cells": [
    {
      "cell_type": "markdown",
      "metadata": {
        "id": "view-in-github",
        "colab_type": "text"
      },
      "source": [
        "<a href=\"https://colab.research.google.com/github/nedokormysh/GB_Probability_Theory/blob/lesson8/Probability_Theory_HW_8.ipynb\" target=\"_parent\"><img src=\"https://colab.research.google.com/assets/colab-badge.svg\" alt=\"Open In Colab\"/></a>"
      ]
    },
    {
      "cell_type": "code",
      "metadata": {
        "id": "Rd1nE8PNMYaz"
      },
      "source": [
        "import numpy as np\n",
        "import matplotlib.pyplot as plt"
      ],
      "execution_count": null,
      "outputs": []
    },
    {
      "cell_type": "markdown",
      "metadata": {
        "id": "h59JhFhxMh4F"
      },
      "source": [
        "Провести дисперсионный анализ для определения того, есть ли различия среднего роста среди взрослых футболистов, хоккеистов и штангистов. Даны значения роста в трех группах случайно выбранных спортсменов: Футболисты: 173, 175, 180, 178, 177, 185, 183, 182. Хоккеисты: 177, 179, 180, 188, 177, 172, 171, 184, 180. Штангисты: 172, 173, 169, 177, 166, 180, 178, 177, 172, 166, 170.\n",
        "\n",
        "\n",
        "$$k = 3$$ т.к. у нас три группы спортсменов\n",
        "\n",
        "$$n = \\sum\\limits_{i=1}^{k}n_i$$"
      ]
    },
    {
      "cell_type": "code",
      "metadata": {
        "colab": {
          "base_uri": "https://localhost:8080/"
        },
        "id": "rMIdkd3ICXpG",
        "outputId": "b9b0567f-0800-49e2-fc44-7d84daec3508"
      },
      "source": [
        "football_players = np.array([173, 175, 180, 178, 177, 185, 183, 182])\n",
        "hockey_players = np.array([177, 179, 180, 188, 177, 172, 171, 184, 180])\n",
        "weightlifters = np.array([172, 173, 169, 177, 166, 180, 178, 177, 172, 166, 170])\n",
        "\n",
        "k = 3\n",
        "\n",
        "n_fb = len(football_players)\n",
        "n_hc = len(hockey_players)\n",
        "n_wl = len(weightlifters)\n",
        "n_all = n_fb + n_hc + n_wl\n",
        "print(n_fb, n_hc, n_wl, n_all)"
      ],
      "execution_count": null,
      "outputs": [
        {
          "output_type": "stream",
          "name": "stdout",
          "text": [
            "8 9 11 28\n"
          ]
        }
      ]
    },
    {
      "cell_type": "markdown",
      "metadata": {
        "id": "JoA8CFOe9iHc"
      },
      "source": [
        "Выборочные средние\n",
        "\n",
        "$$\\overline{y}_{i} = \\frac{1}{n_i}\\sum\\limits_{j=1}^{n_i}y_{ij}$$"
      ]
    },
    {
      "cell_type": "code",
      "metadata": {
        "id": "5Hr00ilJ9wHE"
      },
      "source": [
        "football_players_m = football_players.mean()\n",
        "hockey_players_m = hockey_players.mean()\n",
        "weightlifters_m = weightlifters.mean()"
      ],
      "execution_count": null,
      "outputs": []
    },
    {
      "cell_type": "markdown",
      "metadata": {
        "id": "xPRQtKwF_pfG"
      },
      "source": [
        "$\\overline{Y}$ — среднее значение переменной **Y** по всем значениям:\n",
        "\n",
        "$$\\overline{Y} = \\frac{1}{n}\\sum\\limits_{i=1}^{k}\\sum\\limits_{j=1}^{n_i}y_{ij} = \\frac{1}{n}\\sum\\limits_{i=1}^{k}\\overline{y}_{i}n_{i}$$"
      ]
    },
    {
      "cell_type": "code",
      "metadata": {
        "colab": {
          "base_uri": "https://localhost:8080/"
        },
        "id": "ibihn8OE_xsH",
        "outputId": "0a52d0e4-4faa-474a-93bf-3762a1b47748"
      },
      "source": [
        "y_all = np.concatenate([football_players, hockey_players, weightlifters])\n",
        "y_all_m = y_all.mean()\n",
        "y_all_m"
      ],
      "execution_count": null,
      "outputs": [
        {
          "output_type": "execute_result",
          "data": {
            "text/plain": [
              "176.46428571428572"
            ]
          },
          "metadata": {},
          "execution_count": 4
        }
      ]
    },
    {
      "cell_type": "markdown",
      "metadata": {
        "id": "MAtWuwEGFp4E"
      },
      "source": [
        "$S^2$ — сумма квадратов отклонений наблюдений от общего среднего:\n",
        "\n",
        "$$S^2 = \\sum\\limits_{i=1}^{k}\\sum\\limits_{j=1}^{n_i}({y}_{ij} - \\overline{Y})^2$$"
      ]
    },
    {
      "cell_type": "code",
      "metadata": {
        "colab": {
          "base_uri": "https://localhost:8080/"
        },
        "id": "wO1B4hZfGFzW",
        "outputId": "8ff185d6-1152-41fd-9d20-d7613579f3af"
      },
      "source": [
        "S2 = sum((y_all - y_all_m)**2)\n",
        "S2"
      ],
      "execution_count": null,
      "outputs": [
        {
          "output_type": "execute_result",
          "data": {
            "text/plain": [
              "830.9642857142854"
            ]
          },
          "metadata": {},
          "execution_count": 16
        }
      ]
    },
    {
      "cell_type": "markdown",
      "metadata": {
        "id": "wsh51JcyOj6i"
      },
      "source": [
        "$S_F^2$ — сумма квадратов отклонений средних групповых значений от общего среднего значения $\\overline{Y}$:\n",
        "\n",
        "$$S_F^2 = \\sum\\limits_{i=1}^{k}(\\overline{y}_i - \\overline{Y})^2n_i$$"
      ]
    },
    {
      "cell_type": "code",
      "metadata": {
        "colab": {
          "base_uri": "https://localhost:8080/"
        },
        "id": "6hx73dhOPkT8",
        "outputId": "616d2fc6-b010-4bb2-e09e-7e879bc5b51d"
      },
      "source": [
        "S2_fact = n_fb * (football_players_m - y_all_m)**2  + n_hc * (hockey_players_m - y_all_m)**2  + n_wl * (weightlifters_m - y_all_m)**2\n",
        "S2_fact"
      ],
      "execution_count": null,
      "outputs": [
        {
          "output_type": "execute_result",
          "data": {
            "text/plain": [
              "253.9074675324678"
            ]
          },
          "metadata": {},
          "execution_count": 7
        }
      ]
    },
    {
      "cell_type": "markdown",
      "metadata": {
        "id": "a-JUMnY3fCD8"
      },
      "source": [
        "$S_{ост}^2$ — остаточная сумма квадратов отклонений:\n",
        "$$S_{ост}^{2} = \\sum\\limits_{i=1}^{k}\\sum\\limits_{j=1}^{n_i}(y_{ij} - \\overline{y}_i)^2$$"
      ]
    },
    {
      "cell_type": "code",
      "metadata": {
        "id": "TY95p_32AaMN",
        "colab": {
          "base_uri": "https://localhost:8080/"
        },
        "outputId": "0edefb50-a775-44f5-8569-fd370c48e25f"
      },
      "source": [
        "S2_res = sum((football_players - football_players_m)**2) + sum((hockey_players - hockey_players_m)**2) + sum((weightlifters - weightlifters_m)**2)\n",
        "S2_res"
      ],
      "execution_count": null,
      "outputs": [
        {
          "output_type": "execute_result",
          "data": {
            "text/plain": [
              "577.0568181818181"
            ]
          },
          "metadata": {},
          "execution_count": 13
        }
      ]
    },
    {
      "cell_type": "markdown",
      "metadata": {
        "id": "1sxifXiBEN47"
      },
      "source": [
        "Cумма квадратов отклонений наблюдений от общего среднего дожна быть равна:\n",
        "\n",
        "$$S^2 = S_F^2 + S_{ост}^2$$"
      ]
    },
    {
      "cell_type": "code",
      "metadata": {
        "colab": {
          "base_uri": "https://localhost:8080/"
        },
        "id": "3ew4isPOKK5W",
        "outputId": "8b41139a-b6be-499e-eb95-a63973cd6cec"
      },
      "source": [
        "S2_fact + S2_res"
      ],
      "execution_count": null,
      "outputs": [
        {
          "output_type": "execute_result",
          "data": {
            "text/plain": [
              "830.9642857142859"
            ]
          },
          "metadata": {},
          "execution_count": 14
        }
      ]
    },
    {
      "cell_type": "markdown",
      "metadata": {
        "id": "jSS0lh7PKdkC"
      },
      "source": [
        "Общая дисперсия.\n",
        "\n",
        "$$\\sigma_{общ}^{2} = \\frac{S^2}{n - 1} = \\frac{1}{n-1}\\sum\\limits_{i=1}^{k}\\sum\\limits_{j=1}^{n_i}(y_{ij} - \\overline{Y})^2$$"
      ]
    },
    {
      "cell_type": "code",
      "metadata": {
        "colab": {
          "base_uri": "https://localhost:8080/"
        },
        "id": "-E5SDB2kKh4C",
        "outputId": "f17a8d5b-cbfc-4485-dfaa-f31d9ae04ae3"
      },
      "source": [
        "sigma2_all = S2 / (n_all - 1)\n",
        "sigma2_all"
      ],
      "execution_count": null,
      "outputs": [
        {
          "output_type": "execute_result",
          "data": {
            "text/plain": [
              "30.776455026455015"
            ]
          },
          "metadata": {},
          "execution_count": 23
        }
      ]
    },
    {
      "cell_type": "markdown",
      "metadata": {
        "id": "hrrNLdZFLS7o"
      },
      "source": [
        "Факторная дисперсия\n",
        "$$\\sigma_{F}^{2} = \\frac{S_{F}^{2}}{k-1} = \\frac{1}{k-1}\\sum\\limits_{i=1}^{k}(\\overline{y}_i - \\overline{Y})^{2}n_i$$"
      ]
    },
    {
      "cell_type": "code",
      "metadata": {
        "colab": {
          "base_uri": "https://localhost:8080/"
        },
        "id": "0CnnV2FdLeGT",
        "outputId": "d264a2d2-da1c-4027-8155-68018ea844db"
      },
      "source": [
        "sigma2_fact = S2_fact / (k - 1)\n",
        "sigma2_fact"
      ],
      "execution_count": null,
      "outputs": [
        {
          "output_type": "execute_result",
          "data": {
            "text/plain": [
              "126.9537337662339"
            ]
          },
          "metadata": {},
          "execution_count": 24
        }
      ]
    },
    {
      "cell_type": "markdown",
      "metadata": {
        "id": "AQitDapeON1h"
      },
      "source": [
        "Остаточная дисперсия.\n",
        "\n",
        "$$\\sigma_{ост}^{2} = \\frac{S_{ост}^{2}}{n - k} = \\frac{1}{n - k}\\sum\\limits_{i=1}^{k}\\sum\\limits_{j=1}^{n_i}(y_{ij} - \\overline{y}_i)^2$$"
      ]
    },
    {
      "cell_type": "code",
      "metadata": {
        "colab": {
          "base_uri": "https://localhost:8080/"
        },
        "id": "demt-fynOT2b",
        "outputId": "6903189e-7f8d-4d37-e3dc-d00433bdb677"
      },
      "source": [
        "sigma2_res = S2_res / (n_all - k)\n",
        "sigma2_res"
      ],
      "execution_count": null,
      "outputs": [
        {
          "output_type": "execute_result",
          "data": {
            "text/plain": [
              "23.082272727272724"
            ]
          },
          "metadata": {},
          "execution_count": 25
        }
      ]
    },
    {
      "cell_type": "markdown",
      "metadata": {
        "id": "x4OAUdbeOuwc"
      },
      "source": [
        "Вычислим $F_H$:"
      ]
    },
    {
      "cell_type": "code",
      "metadata": {
        "colab": {
          "base_uri": "https://localhost:8080/"
        },
        "id": "9blmb0a8OzMc",
        "outputId": "a554206c-d0e2-4f22-cc5a-68a498109e5f"
      },
      "source": [
        "F_h = sigma2_fact/ sigma2_res\n",
        "F_h"
      ],
      "execution_count": null,
      "outputs": [
        {
          "output_type": "execute_result",
          "data": {
            "text/plain": [
              "5.500053450812599"
            ]
          },
          "metadata": {},
          "execution_count": 26
        }
      ]
    },
    {
      "cell_type": "code",
      "metadata": {
        "colab": {
          "base_uri": "https://localhost:8080/"
        },
        "id": "9MvPE6qrRZfb",
        "outputId": "baf87f7f-2fd6-4374-ac5e-100cdc5253ed"
      },
      "source": [
        "alpha = 0.05\n",
        "f = stats.f.ppf(1 - alpha, k - 1, n - k)\n",
        "f"
      ],
      "execution_count": null,
      "outputs": [
        {
          "output_type": "execute_result",
          "data": {
            "text/plain": [
              "3.3851899614491687"
            ]
          },
          "metadata": {},
          "execution_count": 30
        }
      ]
    },
    {
      "cell_type": "markdown",
      "metadata": {
        "id": "jZ36vHZqPCiS"
      },
      "source": [
        "Найдем значение $F_{крит}$ в таблице критических точек распределения Фишера-Снедекора для заданного уровня значимости $\\alpha = 0.05$ и двух степеней свободы: \n",
        "\n",
        "$df_{межд} = k - 1 = 3 - 1 = 2$\n",
        "\n",
        "$df_{внутр} = n - k = 28 - 3 = 25$.\n",
        "\n",
        "$F_{крит} = 3.38$\n",
        "\n",
        "Для данных значений $F_{крит} = 3.38$. Так как $F_H > F_{крит}$, следовательно, верная гипотеза $H_1$, т.е. различие среднего роста в трех группах статистически значимо."
      ]
    },
    {
      "cell_type": "code",
      "metadata": {
        "colab": {
          "base_uri": "https://localhost:8080/"
        },
        "id": "qrFpncWZPCBz",
        "outputId": "43a1b01e-1e57-4836-c4db-c9ca5a6240ef"
      },
      "source": [
        "import numpy as np\n",
        "from scipy import stats\n",
        "\n",
        "stats.f_oneway\n",
        "\n",
        "y1 = np.array([173, 175, 180, 178, 177, 185, 183, 182])\n",
        "y2 = np.array([177, 179, 180, 188, 177, 172, 171, 184, 180])\n",
        "y3 = np.array([172, 173, 169, 177, 166, 180, 178, 177, 172, 166, 170])\n",
        "\n",
        "stats.f_oneway(y1, y2, y3)"
      ],
      "execution_count": null,
      "outputs": [
        {
          "output_type": "execute_result",
          "data": {
            "text/plain": [
              "F_onewayResult(statistic=5.500053450812596, pvalue=0.010482206918698694)"
            ]
          },
          "metadata": {},
          "execution_count": 28
        }
      ]
    },
    {
      "cell_type": "code",
      "metadata": {
        "id": "FRqisi2aFpo5"
      },
      "source": [
        "# plt.scatter(['Football players']*n_fb, football_players)"
      ],
      "execution_count": null,
      "outputs": []
    }
  ]
}