{
  "nbformat": 4,
  "nbformat_minor": 0,
  "metadata": {
    "colab": {
      "name": "Probability_Theory_HW_2.ipynb",
      "provenance": [],
      "collapsed_sections": [],
      "authorship_tag": "ABX9TyMeksrK39fURjGNcea4vXjA",
      "include_colab_link": true
    },
    "kernelspec": {
      "name": "python3",
      "display_name": "Python 3"
    },
    "language_info": {
      "name": "python"
    }
  },
  "cells": [
    {
      "cell_type": "markdown",
      "metadata": {
        "id": "view-in-github",
        "colab_type": "text"
      },
      "source": [
        "<a href=\"https://colab.research.google.com/github/nedokormysh/GB_Probability_Theory/blob/lesson2/Probability_Theory_HW_2.ipynb\" target=\"_parent\"><img src=\"https://colab.research.google.com/assets/colab-badge.svg\" alt=\"Open In Colab\"/></a>"
      ]
    },
    {
      "cell_type": "markdown",
      "metadata": {
        "id": "aOReATPdCxel"
      },
      "source": [
        "**Задание 1.**\n",
        "\n",
        "Вероятность того, что стрелок попадет в мишень, выстрелив один раз, равна 0.8. Стрелок выстрелил 100 раз. Найдите вероятность того, что стрелок попадет в цель ровно 85 раз.\n",
        "\n",
        "$$P = C_n^kp^kq^{n-k} = C_{100}^{85}0.8^{85}0.2^{15} = 0.04$$\n",
        "\n",
        "Дана \"точная\" вероятность, поэтому будем использовать биномиальное распределение."
      ]
    },
    {
      "cell_type": "code",
      "metadata": {
        "colab": {
          "base_uri": "https://localhost:8080/"
        },
        "id": "qMYM-yIHCtBS",
        "outputId": "01abf741-2d14-4ba4-90dc-916ea71cbdee"
      },
      "source": [
        "import numpy as np\n",
        "from math import factorial\n",
        "\n",
        "def combinations(n, k):\n",
        "    return int(factorial(n) / (factorial(k) * factorial(n - k)))\n",
        "\n",
        "print(combinations(100, 85) * (0.8 ** 85) * (0.2 ** (100 - 85)))"
      ],
      "execution_count": null,
      "outputs": [
        {
          "output_type": "stream",
          "name": "stdout",
          "text": [
            "0.048061793700746556\n"
          ]
        }
      ]
    },
    {
      "cell_type": "markdown",
      "metadata": {
        "id": "nYgh-swdIpy9"
      },
      "source": [
        "**Задание 2.**\n",
        "\n",
        "Вероятность того, что лампочка перегорит в течение первого дня эксплуатации, равна 0.0004. В жилом комплексе после ремонта в один день включили 5000 новых лампочек. Какова вероятность, что ни одна из них не перегорит в первый день? Какова вероятность, что перегорят ровно две?\n",
        "\n",
        "Требуется найти вероятность наступления в единицу времени. Используем распределение Пуассона.\n",
        "\n",
        "$$P_m \\approx \\frac{\\lambda^m}{m!}e^{-\\lambda}$$\n",
        "\n",
        " $\\lambda = np\\\\\n",
        " n = 5000\\\\\n",
        " p = 0.0004$\n",
        "\n"
      ]
    },
    {
      "cell_type": "markdown",
      "metadata": {
        "id": "ut4PVXm8DnID"
      },
      "source": [
        "\n",
        " а) Какова вероятность, что ни одна из них не перегорит в первый день?\n",
        "\n",
        " $m = 0$"
      ]
    },
    {
      "cell_type": "code",
      "metadata": {
        "colab": {
          "base_uri": "https://localhost:8080/"
        },
        "id": "LSpWHGNzXNny",
        "outputId": "b1f2c95f-b0a6-4897-892a-0fb9f9380544"
      },
      "source": [
        "#а\n",
        "\n",
        "n = 5000\n",
        "m = 0\n",
        "p = 0.0004\n",
        "lambda_ = n * p\n",
        "\n",
        "(lambda_**m / np.math.factorial(m)) * np.exp(-lambda_)"
      ],
      "execution_count": null,
      "outputs": [
        {
          "output_type": "execute_result",
          "data": {
            "text/plain": [
              "0.1353352832366127"
            ]
          },
          "metadata": {},
          "execution_count": 5
        }
      ]
    },
    {
      "cell_type": "markdown",
      "metadata": {
        "id": "NwVQjtLBXYfB"
      },
      "source": [
        "\n",
        " б) Какова вероятность, что перегорят ровно две?\n",
        "\n",
        " $m = 2$"
      ]
    },
    {
      "cell_type": "code",
      "metadata": {
        "colab": {
          "base_uri": "https://localhost:8080/"
        },
        "id": "c_YhD7J9Xa8I",
        "outputId": "dba2195a-88cb-441a-f79c-454ce34620a7"
      },
      "source": [
        "#б\n",
        "\n",
        "n = 5000\n",
        "m = 2\n",
        "p = 0.0004\n",
        "lambda_ = n * p\n",
        "\n",
        "(lambda_**m / np.math.factorial(m)) * np.exp(-lambda_)"
      ],
      "execution_count": null,
      "outputs": [
        {
          "output_type": "execute_result",
          "data": {
            "text/plain": [
              "0.2706705664732254"
            ]
          },
          "metadata": {},
          "execution_count": 6
        }
      ]
    },
    {
      "cell_type": "markdown",
      "metadata": {
        "id": "LMIt4Y0ZIfqQ"
      },
      "source": [
        "**Задание 3.**\n",
        "\n",
        "Монету подбросили 144 раза. Какова вероятность, что орел выпадет ровно 70 раз?\n",
        "\n",
        "$$P = C_n^kp^kq^{n-k} = C_{144}^{70}0.5^{70}0.5^{74} = 0.06$$"
      ]
    },
    {
      "cell_type": "code",
      "metadata": {
        "colab": {
          "base_uri": "https://localhost:8080/"
        },
        "id": "FGQnwAl761l6",
        "outputId": "2dc2f45e-2db6-4e82-c347-02e90d9a1dd9"
      },
      "source": [
        "combinations(144, 70) * (0.5 ** 70) * (0.5 ** (144 - 70))"
      ],
      "execution_count": null,
      "outputs": [
        {
          "output_type": "execute_result",
          "data": {
            "text/plain": [
              "0.06281178035144776"
            ]
          },
          "metadata": {},
          "execution_count": 7
        }
      ]
    },
    {
      "cell_type": "markdown",
      "metadata": {
        "id": "52f2zbGl8EJY"
      },
      "source": [
        "**Задание 4.**\n",
        "\n",
        "В первом ящике находится 10 мячей, из которых 7 - белые. Во втором ящике - 11 мячей, из которых 9 белых. Из каждого ящика вытаскивают случайным образом по два мяча. Какова вероятность того, что все мячи белые? Какова вероятность того, что ровно два мяча белые? Какова вероятность того, что хотя бы один мяч белый?"
      ]
    },
    {
      "cell_type": "markdown",
      "metadata": {
        "id": "-L-SeBMu2-Dr"
      },
      "source": [
        "а) Какова вероятность того, что все мячи белые?\n",
        "\n",
        "условная вероятность\n",
        "\n",
        "$\\frac{7}{10} \\cdot  \\frac{6}{9} \\cdot \\frac{9}{11} \\cdot \\frac{8}{10}$"
      ]
    },
    {
      "cell_type": "code",
      "metadata": {
        "colab": {
          "base_uri": "https://localhost:8080/"
        },
        "id": "ifbOsXRZ28C6",
        "outputId": "8e1cf3a2-7d5f-4a85-cc63-a692ca1b83f0"
      },
      "source": [
        "# вероятность того, что все мячи белые\n",
        "\n",
        "7/10 * 6/9 * 9/11 * 8/10"
      ],
      "execution_count": null,
      "outputs": [
        {
          "output_type": "execute_result",
          "data": {
            "text/plain": [
              "0.3054545454545454"
            ]
          },
          "metadata": {},
          "execution_count": 5
        }
      ]
    },
    {
      "cell_type": "markdown",
      "metadata": {
        "id": "8GotmuiO3mQY"
      },
      "source": [
        "б) Какова вероятность того, что ровно два мяча белые?\n",
        "\n",
        "Через условную вероятность.\n",
        "\n",
        "1) Выберем из первого ящика 2 белых, а из второго два не белых.\n",
        "\n",
        "$\\frac{7}{10} \\cdot \\frac{6}{9} \\cdot \\frac{2}{11} \\cdot\\frac{1}{10} = 0.008$\n",
        "\n",
        "2) Выберем из второго ящика 2 белых, а из первого два не белых.\n",
        "\n",
        "$\\frac{9}{11} \\cdot \\frac{8}{10} \\cdot \\frac{3}{10} \\cdot \\frac{2}{9} = 0.043$\n",
        "\n",
        "3) Выберем из первого ящика один белый, один не белый и из второго таким же образом.\n",
        "\n",
        "$\\Big( \\frac{7}{10} \\cdot \\frac{3}{9} + \\frac{3}{10} \\cdot \\frac{7}{9}\\Big) * \\Big(\\frac{9}{11} \\cdot \\frac{2}{10} + \\frac{2}{11} \\cdot \\frac{9}{10} \\Big) = 0.152$\n",
        "\n",
        "У нас реализуется хотя бы один из этих случаев.\n",
        "\n",
        "$\\frac{7}{10} \\cdot \\frac{6}{9} \\cdot \\frac{2}{11} \\cdot\\frac{1}{10} + \\frac{9}{11} \\cdot \\frac{8}{10} \\cdot \\frac{3}{10} \\cdot \\frac{2}{9} + \\Big( \\frac{7}{10} \\cdot \\frac{3}{9} + \\frac{3}{10} \\cdot \\frac{7}{9}\\Big) * \\Big(\\frac{9}{11} \\cdot \\frac{2}{10} + \\frac{2}{11} \\cdot \\frac{9}{10} \\Big)$"
      ]
    },
    {
      "cell_type": "code",
      "metadata": {
        "colab": {
          "base_uri": "https://localhost:8080/"
        },
        "id": "fgbaDZIsb7VS",
        "outputId": "e2b68611-88ae-4da8-b4e9-6e097691c25f"
      },
      "source": [
        "# вероятность того, что ровно два мяча белые\n",
        "# 2 белых из первого ящика и 2 не белых из второго\n",
        "p1 = 7/10 * 6/9 * 2/11 * 1/10\n",
        "\n",
        "print('2 белых из первого ящика и 2 не белых из второго', round(p1, 4))\n",
        "\n",
        "# 2 белых из второго ящика и 2 не белых из первого\n",
        "p2 = 9/11 * 8/10 * 3/10 * 2/9\n",
        "\n",
        "print('2 белых из второго ящика и 2 не белых из первого', round(p2, 4))\n",
        "\n",
        "# 1 белый из первого ящика и 1 белый из второго ящика\n",
        "p3 = (7/10 * 3/9 + 3/10 * 7/9) * (9/11 * 2/10 + 2/11 * 9/10)\n",
        "\n",
        "print('1 белый из первого ящика и 1 белый из второго ящика', round(p3, 4))\n",
        "\n",
        "p = p1 + p2 + p3\n",
        "print('вероятность того, что ровно два мяча белые', round(p, 4))"
      ],
      "execution_count": null,
      "outputs": [
        {
          "output_type": "stream",
          "name": "stdout",
          "text": [
            "2 белых из первого ящика и 2 не белых из второго 0.0085\n",
            "2 белых из второго ящика и 2 не белых из первого 0.0436\n",
            "1 белый из первого ящика и 1 белый из второго ящика 0.1527\n",
            "вероятность того, что ровно два мяча белые 0.2048\n"
          ]
        }
      ]
    },
    {
      "cell_type": "markdown",
      "metadata": {
        "id": "xXIVe1TpkU96"
      },
      "source": [
        "в) Какова вероятность того, что хотя бы один мяч белый?\n",
        "\n",
        "Найдём обратную вероятность, т.е. найдём вероятность того, что все шары не белые.\n",
        "\n",
        "$\\frac{3}{10} * \\frac{2}{9} * \\frac{2}{11} * \\frac{1}{10}$\n",
        "\n",
        "События все шары не белые и хотя бы один белый - это полная группа событий, поэтому сумма вероятностей этих событий будет равна 1. А потому чтобы найти вероятность события вытащить хотя бы один белый шар равна\n",
        "\n",
        "$1 - \\frac{3}{10} * \\frac{2}{9} * \\frac{2}{11} * \\frac{1}{10} = 0.998$"
      ]
    },
    {
      "cell_type": "code",
      "metadata": {
        "colab": {
          "base_uri": "https://localhost:8080/"
        },
        "id": "O8fYwo0pkVpx",
        "outputId": "34734601-2e5b-49c0-bf63-911ad13bd819"
      },
      "source": [
        "# вероятность того, что хотя бы один мяч белый\n",
        "# 3/10 * 2/9 * 2/11 * 1/10\n",
        "1 - 3/10 * 2/9 * 2/11 * 1/10"
      ],
      "execution_count": null,
      "outputs": [
        {
          "output_type": "execute_result",
          "data": {
            "text/plain": [
              "0.9987878787878788"
            ]
          },
          "metadata": {},
          "execution_count": 10
        }
      ]
    }
  ]
}