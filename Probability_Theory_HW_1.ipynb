{
  "nbformat": 4,
  "nbformat_minor": 0,
  "metadata": {
    "colab": {
      "name": "Probability_Theory_HW_1.ipynb",
      "provenance": [],
      "collapsed_sections": [],
      "authorship_tag": "ABX9TyPFcvtD7IJvUOhqmGeq9mrM",
      "include_colab_link": true
    },
    "kernelspec": {
      "name": "python3",
      "display_name": "Python 3"
    },
    "language_info": {
      "name": "python"
    }
  },
  "cells": [
    {
      "cell_type": "markdown",
      "metadata": {
        "id": "view-in-github",
        "colab_type": "text"
      },
      "source": [
        "<a href=\"https://colab.research.google.com/github/nedokormysh/GB_Probability_Theory/blob/main/Probability_Theory_HW_1.ipynb\" target=\"_parent\"><img src=\"https://colab.research.google.com/assets/colab-badge.svg\" alt=\"Open In Colab\"/></a>"
      ]
    },
    {
      "cell_type": "markdown",
      "metadata": {
        "id": "gxDun-_vFXXi"
      },
      "source": [
        "**Задание 1.** \n",
        "Из колоды в 52 карты извлекаются случайным образом 4 карты. a) Найти вероятность того, что все карты – крести. б) Найти вероятность, что среди 4-х карт окажется хотя бы один туз."
      ]
    },
    {
      "cell_type": "code",
      "metadata": {
        "id": "soWcQMcvDoS3"
      },
      "source": [
        "from math import factorial"
      ],
      "execution_count": 3,
      "outputs": []
    },
    {
      "cell_type": "code",
      "metadata": {
        "id": "sPVyXISoFlkZ"
      },
      "source": [
        "def combinations(n, k):\n",
        "    return int(factorial(n) / (factorial(k) * factorial(n - k)))"
      ],
      "execution_count": 4,
      "outputs": []
    },
    {
      "cell_type": "markdown",
      "metadata": {
        "id": "_bAgEOA-F6ww"
      },
      "source": [
        "### **а)**\n",
        "\n",
        "*I способ.*\n",
        "\n",
        "Вероятность, что все 4 карты - крести.\n",
        "\n",
        "Требуется сделать выборку 4 карт из 52. Нам не важен порядок, рассматриваем сочетания. Это даст нам общее количество вариантов выбора 4 карт из 52, в которых будут варианты, где все карты будут крести.\n",
        "\n",
        "$$C_{52}^4 = \\frac{52!}{4!\\cdot48!} = 270575$$\n",
        "\n",
        "Требуется найти такие варианты, где все карты крести. Для этого нужно выбрать 4 карты из одной масти, т.е. из 4 из 13. Количество способов выбрать 4 карты из крестей. Опять сочетания.\n",
        "\n",
        "$$C_{13}^4 = \\frac{13!}{4!\\cdot 9!} = 715$$\n",
        "\n",
        "Это даёт нам количество благоприятных исходов.\n",
        "\n",
        "Окончательная вероятность будет отношением числа \n",
        "\n",
        "$$ P =\\frac{C_{13}^4}{C_{52}^4} = \\frac{715}{270575} =  0.0026$$"
      ]
    },
    {
      "cell_type": "code",
      "metadata": {
        "colab": {
          "base_uri": "https://localhost:8080/"
        },
        "id": "eNe_J9nDGEc2",
        "outputId": "9048e0f5-dbb0-4f52-c08d-d8231c0f608e"
      },
      "source": [
        "# Программная реализация первого способа.\n",
        "n = combinations(52, 4)\n",
        "print( 'Общее количество исходов = ', n)\n",
        "\n",
        "m = combinations(13, 4)\n",
        "print('Количество благоприятсвующих исходов =', m)\n",
        "\n",
        "print('Вероятность выбрать 4 карты, состоящих только из крестей = ', round(m/n, 6))"
      ],
      "execution_count": null,
      "outputs": [
        {
          "output_type": "stream",
          "name": "stdout",
          "text": [
            "Общее количество исходов 270725\n",
            "Количество благоприятсвующих исходов 715\n",
            "Вероятность выбрать 4 карты, состоящих только из крестей 0.002641\n"
          ]
        }
      ]
    },
    {
      "cell_type": "markdown",
      "metadata": {
        "id": "o6macolcGE8m"
      },
      "source": [
        "*II способ.*\n",
        "\n",
        "Условная вероятность.\n",
        "\n",
        "1) Количество благоприятствующих исходов на количество всех исходов при первом выборе = $\\frac{13}{52}$\n",
        "\n",
        "Требуется, чтобы и вторая карта была той же масти. Следовательно вероятность будет $\\frac{12}{51}$\n",
        "\n",
        "Аналогично для 3 карты $\\frac{11}{50}$\n",
        "\n",
        "Аналогично для 4 карты $\\frac{10}{49}$\n",
        "\n",
        "$$P = \\frac{13}{52} \\cdot \\frac{12}{51}\\cdot \\frac{11}{50} \\cdot \\frac{10}{49} = 0.0026$$"
      ]
    },
    {
      "cell_type": "code",
      "metadata": {
        "colab": {
          "base_uri": "https://localhost:8080/"
        },
        "id": "ZnYhT9cJJh82",
        "outputId": "1179d9b3-7aae-45bf-a046-239eeb701e51"
      },
      "source": [
        "# Программная реализация второго способа.\n",
        "P = (13 / 52) * (12 / 51) * (11 / 50) * (10 / 49)\n",
        "print('Вероятность P = ', round(P, 6))"
      ],
      "execution_count": null,
      "outputs": [
        {
          "output_type": "stream",
          "name": "stdout",
          "text": [
            "Вероятность P =  0.002641\n"
          ]
        }
      ]
    },
    {
      "cell_type": "markdown",
      "metadata": {
        "id": "oc22JpKwbYH_"
      },
      "source": [
        "### **б)**\n",
        "\n",
        "Найти вероятность, что среди 4-х карт окажется хотя бы один туз."
      ]
    },
    {
      "cell_type": "markdown",
      "metadata": {
        "id": "un2wy1s8_Xo4"
      },
      "source": [
        "*I способ.*\n",
        "\n",
        "Рассмотрим сочетания достать 4 карты из 52. И вычтем из всех сочетаний сочетания без тузов.\n",
        "\n",
        "Все сочетания достать 4 карты из колоды.\n",
        "\n",
        "$$C_{52}^4 = \\frac{52!}{4!\\cdot48!} = 270575$$\n",
        "\n",
        "Колода без тузов будет состоять из 48 карт. Теперь найдём все сочетания 4 карт в этом подмножестве.\n",
        "\n",
        "$$C_{48}^4 = \\frac{48!}{4!\\cdot44!} = 194508$$\n",
        "\n",
        "Вычтем. Останутся только сочетания, где хотя бы 1 туз.\n",
        "\n",
        "$$C_{1t} = C_{52}^4 - C_{48}^4 = 270575 - 194508 = 76145\\$$\n",
        "\n",
        "Находим вероятность. Это отношение сочетаний, где есть хотя бы 1 туз к общему числу сочетаний.\n",
        "\n",
        "$$ P_{1t} =\\frac{C_{1t}}{C_{52}^4} = \\frac{76145}{270575} =  0.28$$"
      ]
    },
    {
      "cell_type": "code",
      "metadata": {
        "colab": {
          "base_uri": "https://localhost:8080/"
        },
        "id": "sDycR7LqITRX",
        "outputId": "578dd9ae-697a-403f-cb6e-ecee5aae2f8d"
      },
      "source": [
        "# программная реализация I способа\n",
        "\n",
        "С_4_52 = combinations(52, 4)\n",
        "С_4_48 = combinations(48, 4)\n",
        "C_1t= С_4_52 - С_4_48\n",
        "P_1t = C_1t / С_4_52\n",
        "print('Вероятность найти хотя бы одного туза среди 4 любых карт из колоды 52 = ', round(P_1t, 3))"
      ],
      "execution_count": 5,
      "outputs": [
        {
          "output_type": "stream",
          "name": "stdout",
          "text": [
            "Вероятность найти хотя бы одного туза среди 4 любых карт из колоды 52 =  0.281\n"
          ]
        }
      ]
    },
    {
      "cell_type": "markdown",
      "metadata": {
        "id": "4K6WTg3RfyTe"
      },
      "source": [
        "*II способ*\n",
        "\n",
        "Рассмотрим сочетание выбрать 1 туз из 4. \n",
        "\n",
        "$$C_{4}^1 = \\frac{4!}{1!\\cdot 3!} = 4 $$\n",
        "\n",
        "Оставшиеся 3 карты могут быть любыми. Тогда\n",
        "$$C_{48}^3 = \\frac{48!}{3!\\cdot 45!} =  17296$$\n",
        "\n",
        "Нам нужно выполнение этих комбинаций одновременно. Т.е.\n",
        "\n",
        "$$C_1 = C_{4}^1 * C_{48}^3$$\n",
        "\n",
        "Рассмотрим сочетание выбрать 2 туза из 4. \n",
        "\n",
        "$$C_{4}^2 = \\frac{4!}{2!\\cdot 2!} = 6 $$\n",
        "\n",
        "Оставшиеся 2 карты могут быть любыми. Тогда\n",
        "$$C_{48}^2 = \\frac{48!}{2!\\cdot 46!} =  1128$$\n",
        "\n",
        "$$C_2 = C_{4}^2 * C_{48}^2$$\n",
        "\n",
        "Аналогично 3 туза из 4.\n",
        "\n",
        "$$C_{4}^3 = \\frac{4!}{3!\\cdot 1!} = 4 $$\n",
        "\n",
        "Оставшаяся 1 карта может быть любой. Тогда\n",
        "$$C_{48}^1 = \\frac{48!}{1!\\cdot 47!} =  48$$\n",
        "\n",
        "$$C_3 = C_{4}^3 * C_{48}^1$$\n",
        "\n",
        "$$C_{4}^4 = 1 $$\n",
        "\n",
        "$$C_{48}^0 = 1$$\n",
        "\n",
        "$$C_4= C_{4}^4 * C_{48}^0$$\n",
        "\n",
        "\n",
        "Нам требуется хотя бы один туз. Поэтому складываем полученные комбинации. Т.е. или такой случай или такой.\n",
        "\n",
        "$C = C1 + C2 + C3 + C4$\n",
        "\n",
        "Вероятность будет равна $P = \\frac{C}{C_{52}^4} = 0.28$"
      ]
    },
    {
      "cell_type": "code",
      "metadata": {
        "colab": {
          "base_uri": "https://localhost:8080/"
        },
        "id": "KLZK409jcGFF",
        "outputId": "55fefc26-c53b-408c-d591-be1735bd1f79"
      },
      "source": [
        "# программная реализация II способа\n",
        "\n",
        "С_1_4 = combinations(4, 1)\n",
        "C_2_4 = combinations(4, 2)\n",
        "C_3_4 = combinations(4, 3)\n",
        "C_4_4 = combinations(4, 4)\n",
        "\n",
        "C_3_48 = combinations(48, 3)\n",
        "C_2_48 = combinations(48, 2)\n",
        "C_1_48 = combinations(48, 1)\n",
        "C_0_48 = combinations(48, 0)\n",
        "\n",
        "\n",
        "C1 = С_1_4 * C_3_48\n",
        "C2 = C_2_4 * C_2_48\n",
        "C3 = C_3_4 * C_1_48\n",
        "C4 = C_4_4 * C_0_48\n",
        "C = C1 + C2 + C3 +C4\n",
        "\n",
        "С_4_52 = combinations(52, 4)\n",
        "P = C / С_4_52\n",
        "print('Вероятность найти хотя бы одного туза среди 4 любых карт из колоды 52 = ', round(P, 3))"
      ],
      "execution_count": 7,
      "outputs": [
        {
          "output_type": "stream",
          "name": "stdout",
          "text": [
            "Вероятность найти хотя бы одного туза среди 4 любых карт из колоды 52 =  0.281\n"
          ]
        }
      ]
    },
    {
      "cell_type": "markdown",
      "metadata": {
        "id": "7Ag1AQILOsK1"
      },
      "source": [
        "**Задание 2.** \n",
        "\n",
        "На входной двери подъезда установлен кодовый замок, содержащий десять кнопок с цифрами от 0 до 9. Код содержит три цифры, которые нужно нажать одновременно. Какова вероятность того, что человек, не знающий код, откроет дверь с первой попытки?\n",
        "\n",
        "\n",
        "*I способ.*\n",
        "\n",
        "\n",
        "Найдём количество возможных комбинаций трёх кнопок из 10 цифр.\n",
        "\n",
        "$$C_{10}^{3} = \\frac{10!}{3!\\cdot 7!} = 120$$\n",
        "\n",
        "У нас число попыток равно 1. Тогда вероятность того, что человек, не знающий код, откроет дверь с первой попытки.\n",
        "\n",
        "$$P = \\frac{1}{120}$$\n",
        "\n"
      ]
    },
    {
      "cell_type": "code",
      "metadata": {
        "colab": {
          "base_uri": "https://localhost:8080/"
        },
        "id": "mfTxMYfQuu4s",
        "outputId": "885f471d-4d9f-4b84-918a-7a9b29c8d8ec"
      },
      "source": [
        "# программная реализация первого способа\n",
        "\n",
        "C = combinations(10, 3)\n",
        "print('Вероятность с первой попытки подобрать код = ', round(1/C, 4))"
      ],
      "execution_count": 9,
      "outputs": [
        {
          "output_type": "stream",
          "name": "stdout",
          "text": [
            "Вероятность с первой попытки подобрать код =  0.0083\n"
          ]
        }
      ]
    },
    {
      "cell_type": "markdown",
      "metadata": {
        "id": "mgUhhN2ButiT"
      },
      "source": [
        "*II способ.*\n",
        "\n",
        "Рассмотрим условную вероятность.\n",
        "Тогда вероятность найти верным первую цифру $\\frac{3}{10}$.\n",
        "Вероятность найти верным вторую цифру $\\frac{2}{9}$.\n",
        "Вероятность найти верным третью цифру $\\frac{1}{8}$.\n",
        "\n",
        "Нам нужно одновременно и одна и вторая и третья цифра. Поэтому *.\n",
        "\n",
        "$$P = \\frac{3}{10} \\cdot \\frac{2}{9} \\cdot \\frac{1}{8} = 0.008$$"
      ]
    },
    {
      "cell_type": "code",
      "metadata": {
        "colab": {
          "base_uri": "https://localhost:8080/"
        },
        "id": "ZsrzmfLRuEcC",
        "outputId": "ec99a92c-b837-43f7-daaa-cf84fca1fac6"
      },
      "source": [
        "# программная реализация второго способа\n",
        "P = (3 / 10) * (2 / 9) * (1 / 8)\n",
        "print(round(P, 4))"
      ],
      "execution_count": 8,
      "outputs": [
        {
          "output_type": "stream",
          "name": "stdout",
          "text": [
            "0.0083\n"
          ]
        }
      ]
    },
    {
      "cell_type": "markdown",
      "metadata": {
        "id": "C8Xd2WdI38lm"
      },
      "source": [
        "**Задание 3.**\n",
        "\n",
        "В ящике имеется 15 деталей, из которых 9 окрашены. Рабочий случайным образом извлекает 3 детали. Какова вероятность того, что все извлеченные детали окрашены?\n",
        "\n"
      ]
    },
    {
      "cell_type": "markdown",
      "metadata": {
        "id": "ypLQ0l_v5nH9"
      },
      "source": [
        "*I способ.*\n",
        "\n",
        "Число комбинаций, благоприятствующих событию.\n",
        "\n",
        "$$C_{9}^{3} = \\frac{9!}{3!\\cdot 6!} = 84$$\n",
        "\n",
        "Общее число комбинаций.\n",
        "\n",
        "$$C_{15}^{3} = \\frac{15!}{3!\\cdot 12!} = 455$$\n",
        "\n",
        "$$P = \\frac{C_{9}^{3}}{C_{15}^{3}} = 0.1846$$\n",
        "\n"
      ]
    },
    {
      "cell_type": "code",
      "metadata": {
        "colab": {
          "base_uri": "https://localhost:8080/"
        },
        "id": "2PmGK25uxiTK",
        "outputId": "202693e7-20ee-4dad-8c47-12ec05d3f896"
      },
      "source": [
        "# программная реализация первого способа\n",
        "\n",
        "C_3_9 = combinations(9, 3)\n",
        "C_3_15 = combinations(15, 3)\n",
        "print('Вероятность что три детали окрашены ', round((C_3_9 / C_3_15), 4))"
      ],
      "execution_count": 13,
      "outputs": [
        {
          "output_type": "stream",
          "name": "stdout",
          "text": [
            "Вероятность что три детали окрашены  0.1846\n"
          ]
        }
      ]
    },
    {
      "cell_type": "markdown",
      "metadata": {
        "id": "EnK-ohh55emV"
      },
      "source": [
        "*II способ.*\n",
        "\n",
        "$$P = \\frac{9}{15}\\cdot\\frac{8}{14}\\cdot\\frac{7}{13} = 0.18$$"
      ]
    },
    {
      "cell_type": "code",
      "metadata": {
        "colab": {
          "base_uri": "https://localhost:8080/"
        },
        "id": "sbLgeHq45KyN",
        "outputId": "3209faf1-59da-4001-9e35-eedbb5460371"
      },
      "source": [
        "# программная реализация второго способа\n",
        "\n",
        "P = (9 / 15) * (8 / 14) * (7 / 13)\n",
        "print(round(P, 4))"
      ],
      "execution_count": null,
      "outputs": [
        {
          "output_type": "stream",
          "name": "stdout",
          "text": [
            "0.1846\n"
          ]
        }
      ]
    },
    {
      "cell_type": "markdown",
      "metadata": {
        "id": "eyKNH4JYMWH0"
      },
      "source": [
        "**Задание 4**\n",
        "\n",
        "В лотерее 100 билетов. Из них 2 выигрышных. Какова вероятность того, что 2 приобретенных билета окажутся выигрышными?"
      ]
    },
    {
      "cell_type": "markdown",
      "metadata": {
        "id": "3tb8hzL8weRf"
      },
      "source": [
        "*I способ.*\n",
        "\n",
        "Число комбинаций, благоприятствующих событию.\n",
        "\n",
        "$$C_{2}^{2} = 1$$\n",
        "\n",
        "Общее число комбинаций.\n",
        "\n",
        "$$C_{100}^{2} = \\frac{100!}{2!\\cdot 98!} = 4950$$\n",
        "\n",
        "$$P = \\frac{C_{2}^{2}}{C_{100}^{2}} = 0.0002$$"
      ]
    },
    {
      "cell_type": "code",
      "metadata": {
        "colab": {
          "base_uri": "https://localhost:8080/"
        },
        "id": "OFWdT8w7ybPF",
        "outputId": "29a10e88-fb38-4ab4-a1c1-b3a9e4746b93"
      },
      "source": [
        "# программная реализация первого способа\n",
        "\n",
        "C_2_2 = combinations(2, 2)\n",
        "C_2_100 = combinations(100, 2)\n",
        "print('Вероятность что 2 билета выигрышные ', round((C_2_2 / C_2_100), 4))"
      ],
      "execution_count": 15,
      "outputs": [
        {
          "output_type": "stream",
          "name": "stdout",
          "text": [
            "Вероятность что 2 билета выигрышные  0.0002\n"
          ]
        }
      ]
    },
    {
      "cell_type": "markdown",
      "metadata": {
        "id": "-YEGqRk-yv_7"
      },
      "source": [
        "*II способ.*\n",
        "\n",
        "$$P = \\frac{2}{100}\\cdot\\frac{1}{99} = 0.0002$$"
      ]
    },
    {
      "cell_type": "code",
      "metadata": {
        "colab": {
          "base_uri": "https://localhost:8080/"
        },
        "id": "Bw0OurxFzEuM",
        "outputId": "8bebbf69-bed4-4226-c091-a4135601868c"
      },
      "source": [
        "# программная реализация второго способа\n",
        "\n",
        "P = (2 / 100) * (1 / 99)\n",
        "print(round(P, 4))"
      ],
      "execution_count": 16,
      "outputs": [
        {
          "output_type": "stream",
          "name": "stdout",
          "text": [
            "0.0002\n"
          ]
        }
      ]
    }
  ]
}